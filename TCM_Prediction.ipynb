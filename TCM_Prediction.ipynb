{
  "nbformat": 4,
  "nbformat_minor": 0,
  "metadata": {
    "colab": {
      "provenance": [],
      "authorship_tag": "ABX9TyM9J57hfq2e1uEK4R8o/gEC",
      "include_colab_link": true
    },
    "kernelspec": {
      "name": "python3",
      "display_name": "Python 3"
    },
    "language_info": {
      "name": "python"
    },
    "widgets": {
      "application/vnd.jupyter.widget-state+json": {
        "edf7a4e31dcc44029a0182540d837f20": {
          "model_module": "@jupyter-widgets/controls",
          "model_name": "HBoxModel",
          "model_module_version": "1.5.0",
          "state": {
            "_dom_classes": [],
            "_model_module": "@jupyter-widgets/controls",
            "_model_module_version": "1.5.0",
            "_model_name": "HBoxModel",
            "_view_count": null,
            "_view_module": "@jupyter-widgets/controls",
            "_view_module_version": "1.5.0",
            "_view_name": "HBoxView",
            "box_style": "",
            "children": [
              "IPY_MODEL_7fad5b7e55d94251a1f8dd098aad94ff",
              "IPY_MODEL_1d1c650228d14d1ca04b8e7a720eb375",
              "IPY_MODEL_b8c8dec10428467e87e1b10cfe8b77eb"
            ],
            "layout": "IPY_MODEL_f9193a0f41e042ecbfb7ff550ce93351"
          }
        },
        "7fad5b7e55d94251a1f8dd098aad94ff": {
          "model_module": "@jupyter-widgets/controls",
          "model_name": "HTMLModel",
          "model_module_version": "1.5.0",
          "state": {
            "_dom_classes": [],
            "_model_module": "@jupyter-widgets/controls",
            "_model_module_version": "1.5.0",
            "_model_name": "HTMLModel",
            "_view_count": null,
            "_view_module": "@jupyter-widgets/controls",
            "_view_module_version": "1.5.0",
            "_view_name": "HTMLView",
            "description": "",
            "description_tooltip": null,
            "layout": "IPY_MODEL_df86c240ce1a4e7eb2a356ec2dd48c1f",
            "placeholder": "​",
            "style": "IPY_MODEL_ff3a9f170d86431ca6cb5fdd06b86074",
            "value": "Downloading: 100%"
          }
        },
        "1d1c650228d14d1ca04b8e7a720eb375": {
          "model_module": "@jupyter-widgets/controls",
          "model_name": "FloatProgressModel",
          "model_module_version": "1.5.0",
          "state": {
            "_dom_classes": [],
            "_model_module": "@jupyter-widgets/controls",
            "_model_module_version": "1.5.0",
            "_model_name": "FloatProgressModel",
            "_view_count": null,
            "_view_module": "@jupyter-widgets/controls",
            "_view_module_version": "1.5.0",
            "_view_name": "ProgressView",
            "bar_style": "success",
            "description": "",
            "description_tooltip": null,
            "layout": "IPY_MODEL_f2d16aa697fb4cdf96ebb18b099e2723",
            "max": 213450,
            "min": 0,
            "orientation": "horizontal",
            "style": "IPY_MODEL_5172cad0d74449b79f76db48ce3778e0",
            "value": 213450
          }
        },
        "b8c8dec10428467e87e1b10cfe8b77eb": {
          "model_module": "@jupyter-widgets/controls",
          "model_name": "HTMLModel",
          "model_module_version": "1.5.0",
          "state": {
            "_dom_classes": [],
            "_model_module": "@jupyter-widgets/controls",
            "_model_module_version": "1.5.0",
            "_model_name": "HTMLModel",
            "_view_count": null,
            "_view_module": "@jupyter-widgets/controls",
            "_view_module_version": "1.5.0",
            "_view_name": "HTMLView",
            "description": "",
            "description_tooltip": null,
            "layout": "IPY_MODEL_2f3714b4aeca409aacdc09d61f475b69",
            "placeholder": "​",
            "style": "IPY_MODEL_c9aa0f66f635438b8e9cd2a32a62968a",
            "value": " 213k/213k [00:00&lt;00:00, 2.23MB/s]"
          }
        },
        "f9193a0f41e042ecbfb7ff550ce93351": {
          "model_module": "@jupyter-widgets/base",
          "model_name": "LayoutModel",
          "model_module_version": "1.2.0",
          "state": {
            "_model_module": "@jupyter-widgets/base",
            "_model_module_version": "1.2.0",
            "_model_name": "LayoutModel",
            "_view_count": null,
            "_view_module": "@jupyter-widgets/base",
            "_view_module_version": "1.2.0",
            "_view_name": "LayoutView",
            "align_content": null,
            "align_items": null,
            "align_self": null,
            "border": null,
            "bottom": null,
            "display": null,
            "flex": null,
            "flex_flow": null,
            "grid_area": null,
            "grid_auto_columns": null,
            "grid_auto_flow": null,
            "grid_auto_rows": null,
            "grid_column": null,
            "grid_gap": null,
            "grid_row": null,
            "grid_template_areas": null,
            "grid_template_columns": null,
            "grid_template_rows": null,
            "height": null,
            "justify_content": null,
            "justify_items": null,
            "left": null,
            "margin": null,
            "max_height": null,
            "max_width": null,
            "min_height": null,
            "min_width": null,
            "object_fit": null,
            "object_position": null,
            "order": null,
            "overflow": null,
            "overflow_x": null,
            "overflow_y": null,
            "padding": null,
            "right": null,
            "top": null,
            "visibility": null,
            "width": null
          }
        },
        "df86c240ce1a4e7eb2a356ec2dd48c1f": {
          "model_module": "@jupyter-widgets/base",
          "model_name": "LayoutModel",
          "model_module_version": "1.2.0",
          "state": {
            "_model_module": "@jupyter-widgets/base",
            "_model_module_version": "1.2.0",
            "_model_name": "LayoutModel",
            "_view_count": null,
            "_view_module": "@jupyter-widgets/base",
            "_view_module_version": "1.2.0",
            "_view_name": "LayoutView",
            "align_content": null,
            "align_items": null,
            "align_self": null,
            "border": null,
            "bottom": null,
            "display": null,
            "flex": null,
            "flex_flow": null,
            "grid_area": null,
            "grid_auto_columns": null,
            "grid_auto_flow": null,
            "grid_auto_rows": null,
            "grid_column": null,
            "grid_gap": null,
            "grid_row": null,
            "grid_template_areas": null,
            "grid_template_columns": null,
            "grid_template_rows": null,
            "height": null,
            "justify_content": null,
            "justify_items": null,
            "left": null,
            "margin": null,
            "max_height": null,
            "max_width": null,
            "min_height": null,
            "min_width": null,
            "object_fit": null,
            "object_position": null,
            "order": null,
            "overflow": null,
            "overflow_x": null,
            "overflow_y": null,
            "padding": null,
            "right": null,
            "top": null,
            "visibility": null,
            "width": null
          }
        },
        "ff3a9f170d86431ca6cb5fdd06b86074": {
          "model_module": "@jupyter-widgets/controls",
          "model_name": "DescriptionStyleModel",
          "model_module_version": "1.5.0",
          "state": {
            "_model_module": "@jupyter-widgets/controls",
            "_model_module_version": "1.5.0",
            "_model_name": "DescriptionStyleModel",
            "_view_count": null,
            "_view_module": "@jupyter-widgets/base",
            "_view_module_version": "1.2.0",
            "_view_name": "StyleView",
            "description_width": ""
          }
        },
        "f2d16aa697fb4cdf96ebb18b099e2723": {
          "model_module": "@jupyter-widgets/base",
          "model_name": "LayoutModel",
          "model_module_version": "1.2.0",
          "state": {
            "_model_module": "@jupyter-widgets/base",
            "_model_module_version": "1.2.0",
            "_model_name": "LayoutModel",
            "_view_count": null,
            "_view_module": "@jupyter-widgets/base",
            "_view_module_version": "1.2.0",
            "_view_name": "LayoutView",
            "align_content": null,
            "align_items": null,
            "align_self": null,
            "border": null,
            "bottom": null,
            "display": null,
            "flex": null,
            "flex_flow": null,
            "grid_area": null,
            "grid_auto_columns": null,
            "grid_auto_flow": null,
            "grid_auto_rows": null,
            "grid_column": null,
            "grid_gap": null,
            "grid_row": null,
            "grid_template_areas": null,
            "grid_template_columns": null,
            "grid_template_rows": null,
            "height": null,
            "justify_content": null,
            "justify_items": null,
            "left": null,
            "margin": null,
            "max_height": null,
            "max_width": null,
            "min_height": null,
            "min_width": null,
            "object_fit": null,
            "object_position": null,
            "order": null,
            "overflow": null,
            "overflow_x": null,
            "overflow_y": null,
            "padding": null,
            "right": null,
            "top": null,
            "visibility": null,
            "width": null
          }
        },
        "5172cad0d74449b79f76db48ce3778e0": {
          "model_module": "@jupyter-widgets/controls",
          "model_name": "ProgressStyleModel",
          "model_module_version": "1.5.0",
          "state": {
            "_model_module": "@jupyter-widgets/controls",
            "_model_module_version": "1.5.0",
            "_model_name": "ProgressStyleModel",
            "_view_count": null,
            "_view_module": "@jupyter-widgets/base",
            "_view_module_version": "1.2.0",
            "_view_name": "StyleView",
            "bar_color": null,
            "description_width": ""
          }
        },
        "2f3714b4aeca409aacdc09d61f475b69": {
          "model_module": "@jupyter-widgets/base",
          "model_name": "LayoutModel",
          "model_module_version": "1.2.0",
          "state": {
            "_model_module": "@jupyter-widgets/base",
            "_model_module_version": "1.2.0",
            "_model_name": "LayoutModel",
            "_view_count": null,
            "_view_module": "@jupyter-widgets/base",
            "_view_module_version": "1.2.0",
            "_view_name": "LayoutView",
            "align_content": null,
            "align_items": null,
            "align_self": null,
            "border": null,
            "bottom": null,
            "display": null,
            "flex": null,
            "flex_flow": null,
            "grid_area": null,
            "grid_auto_columns": null,
            "grid_auto_flow": null,
            "grid_auto_rows": null,
            "grid_column": null,
            "grid_gap": null,
            "grid_row": null,
            "grid_template_areas": null,
            "grid_template_columns": null,
            "grid_template_rows": null,
            "height": null,
            "justify_content": null,
            "justify_items": null,
            "left": null,
            "margin": null,
            "max_height": null,
            "max_width": null,
            "min_height": null,
            "min_width": null,
            "object_fit": null,
            "object_position": null,
            "order": null,
            "overflow": null,
            "overflow_x": null,
            "overflow_y": null,
            "padding": null,
            "right": null,
            "top": null,
            "visibility": null,
            "width": null
          }
        },
        "c9aa0f66f635438b8e9cd2a32a62968a": {
          "model_module": "@jupyter-widgets/controls",
          "model_name": "DescriptionStyleModel",
          "model_module_version": "1.5.0",
          "state": {
            "_model_module": "@jupyter-widgets/controls",
            "_model_module_version": "1.5.0",
            "_model_name": "DescriptionStyleModel",
            "_view_count": null,
            "_view_module": "@jupyter-widgets/base",
            "_view_module_version": "1.2.0",
            "_view_name": "StyleView",
            "description_width": ""
          }
        },
        "50a52dbe96924de28701c6636d3b9184": {
          "model_module": "@jupyter-widgets/controls",
          "model_name": "HBoxModel",
          "model_module_version": "1.5.0",
          "state": {
            "_dom_classes": [],
            "_model_module": "@jupyter-widgets/controls",
            "_model_module_version": "1.5.0",
            "_model_name": "HBoxModel",
            "_view_count": null,
            "_view_module": "@jupyter-widgets/controls",
            "_view_module_version": "1.5.0",
            "_view_name": "HBoxView",
            "box_style": "",
            "children": [
              "IPY_MODEL_914dd835bf5f4632ae1223b9bfe90f61",
              "IPY_MODEL_100539f7b9e1454e87531a8a0332cb75",
              "IPY_MODEL_fc57df6f45684f959c88c0adb453cf74"
            ],
            "layout": "IPY_MODEL_4588dc17aba645dbad70f01604adf959"
          }
        },
        "914dd835bf5f4632ae1223b9bfe90f61": {
          "model_module": "@jupyter-widgets/controls",
          "model_name": "HTMLModel",
          "model_module_version": "1.5.0",
          "state": {
            "_dom_classes": [],
            "_model_module": "@jupyter-widgets/controls",
            "_model_module_version": "1.5.0",
            "_model_name": "HTMLModel",
            "_view_count": null,
            "_view_module": "@jupyter-widgets/controls",
            "_view_module_version": "1.5.0",
            "_view_name": "HTMLView",
            "description": "",
            "description_tooltip": null,
            "layout": "IPY_MODEL_209e7529118246ae9f1c8ee9c0645c36",
            "placeholder": "​",
            "style": "IPY_MODEL_78f32363b4144ac1a633b5297d421463",
            "value": "Downloading: 100%"
          }
        },
        "100539f7b9e1454e87531a8a0332cb75": {
          "model_module": "@jupyter-widgets/controls",
          "model_name": "FloatProgressModel",
          "model_module_version": "1.5.0",
          "state": {
            "_dom_classes": [],
            "_model_module": "@jupyter-widgets/controls",
            "_model_module_version": "1.5.0",
            "_model_name": "FloatProgressModel",
            "_view_count": null,
            "_view_module": "@jupyter-widgets/controls",
            "_view_module_version": "1.5.0",
            "_view_name": "ProgressView",
            "bar_style": "success",
            "description": "",
            "description_tooltip": null,
            "layout": "IPY_MODEL_7d870747a9b54ecbba9e6d3580c410ff",
            "max": 29,
            "min": 0,
            "orientation": "horizontal",
            "style": "IPY_MODEL_1e85820d030a494396c922081dc4b64c",
            "value": 29
          }
        },
        "fc57df6f45684f959c88c0adb453cf74": {
          "model_module": "@jupyter-widgets/controls",
          "model_name": "HTMLModel",
          "model_module_version": "1.5.0",
          "state": {
            "_dom_classes": [],
            "_model_module": "@jupyter-widgets/controls",
            "_model_module_version": "1.5.0",
            "_model_name": "HTMLModel",
            "_view_count": null,
            "_view_module": "@jupyter-widgets/controls",
            "_view_module_version": "1.5.0",
            "_view_name": "HTMLView",
            "description": "",
            "description_tooltip": null,
            "layout": "IPY_MODEL_4cf9ab53f4d840218e8ebb6fe0965a61",
            "placeholder": "​",
            "style": "IPY_MODEL_8f08c53f80da4f5ea2e4a3c759500141",
            "value": " 29.0/29.0 [00:00&lt;00:00, 390B/s]"
          }
        },
        "4588dc17aba645dbad70f01604adf959": {
          "model_module": "@jupyter-widgets/base",
          "model_name": "LayoutModel",
          "model_module_version": "1.2.0",
          "state": {
            "_model_module": "@jupyter-widgets/base",
            "_model_module_version": "1.2.0",
            "_model_name": "LayoutModel",
            "_view_count": null,
            "_view_module": "@jupyter-widgets/base",
            "_view_module_version": "1.2.0",
            "_view_name": "LayoutView",
            "align_content": null,
            "align_items": null,
            "align_self": null,
            "border": null,
            "bottom": null,
            "display": null,
            "flex": null,
            "flex_flow": null,
            "grid_area": null,
            "grid_auto_columns": null,
            "grid_auto_flow": null,
            "grid_auto_rows": null,
            "grid_column": null,
            "grid_gap": null,
            "grid_row": null,
            "grid_template_areas": null,
            "grid_template_columns": null,
            "grid_template_rows": null,
            "height": null,
            "justify_content": null,
            "justify_items": null,
            "left": null,
            "margin": null,
            "max_height": null,
            "max_width": null,
            "min_height": null,
            "min_width": null,
            "object_fit": null,
            "object_position": null,
            "order": null,
            "overflow": null,
            "overflow_x": null,
            "overflow_y": null,
            "padding": null,
            "right": null,
            "top": null,
            "visibility": null,
            "width": null
          }
        },
        "209e7529118246ae9f1c8ee9c0645c36": {
          "model_module": "@jupyter-widgets/base",
          "model_name": "LayoutModel",
          "model_module_version": "1.2.0",
          "state": {
            "_model_module": "@jupyter-widgets/base",
            "_model_module_version": "1.2.0",
            "_model_name": "LayoutModel",
            "_view_count": null,
            "_view_module": "@jupyter-widgets/base",
            "_view_module_version": "1.2.0",
            "_view_name": "LayoutView",
            "align_content": null,
            "align_items": null,
            "align_self": null,
            "border": null,
            "bottom": null,
            "display": null,
            "flex": null,
            "flex_flow": null,
            "grid_area": null,
            "grid_auto_columns": null,
            "grid_auto_flow": null,
            "grid_auto_rows": null,
            "grid_column": null,
            "grid_gap": null,
            "grid_row": null,
            "grid_template_areas": null,
            "grid_template_columns": null,
            "grid_template_rows": null,
            "height": null,
            "justify_content": null,
            "justify_items": null,
            "left": null,
            "margin": null,
            "max_height": null,
            "max_width": null,
            "min_height": null,
            "min_width": null,
            "object_fit": null,
            "object_position": null,
            "order": null,
            "overflow": null,
            "overflow_x": null,
            "overflow_y": null,
            "padding": null,
            "right": null,
            "top": null,
            "visibility": null,
            "width": null
          }
        },
        "78f32363b4144ac1a633b5297d421463": {
          "model_module": "@jupyter-widgets/controls",
          "model_name": "DescriptionStyleModel",
          "model_module_version": "1.5.0",
          "state": {
            "_model_module": "@jupyter-widgets/controls",
            "_model_module_version": "1.5.0",
            "_model_name": "DescriptionStyleModel",
            "_view_count": null,
            "_view_module": "@jupyter-widgets/base",
            "_view_module_version": "1.2.0",
            "_view_name": "StyleView",
            "description_width": ""
          }
        },
        "7d870747a9b54ecbba9e6d3580c410ff": {
          "model_module": "@jupyter-widgets/base",
          "model_name": "LayoutModel",
          "model_module_version": "1.2.0",
          "state": {
            "_model_module": "@jupyter-widgets/base",
            "_model_module_version": "1.2.0",
            "_model_name": "LayoutModel",
            "_view_count": null,
            "_view_module": "@jupyter-widgets/base",
            "_view_module_version": "1.2.0",
            "_view_name": "LayoutView",
            "align_content": null,
            "align_items": null,
            "align_self": null,
            "border": null,
            "bottom": null,
            "display": null,
            "flex": null,
            "flex_flow": null,
            "grid_area": null,
            "grid_auto_columns": null,
            "grid_auto_flow": null,
            "grid_auto_rows": null,
            "grid_column": null,
            "grid_gap": null,
            "grid_row": null,
            "grid_template_areas": null,
            "grid_template_columns": null,
            "grid_template_rows": null,
            "height": null,
            "justify_content": null,
            "justify_items": null,
            "left": null,
            "margin": null,
            "max_height": null,
            "max_width": null,
            "min_height": null,
            "min_width": null,
            "object_fit": null,
            "object_position": null,
            "order": null,
            "overflow": null,
            "overflow_x": null,
            "overflow_y": null,
            "padding": null,
            "right": null,
            "top": null,
            "visibility": null,
            "width": null
          }
        },
        "1e85820d030a494396c922081dc4b64c": {
          "model_module": "@jupyter-widgets/controls",
          "model_name": "ProgressStyleModel",
          "model_module_version": "1.5.0",
          "state": {
            "_model_module": "@jupyter-widgets/controls",
            "_model_module_version": "1.5.0",
            "_model_name": "ProgressStyleModel",
            "_view_count": null,
            "_view_module": "@jupyter-widgets/base",
            "_view_module_version": "1.2.0",
            "_view_name": "StyleView",
            "bar_color": null,
            "description_width": ""
          }
        },
        "4cf9ab53f4d840218e8ebb6fe0965a61": {
          "model_module": "@jupyter-widgets/base",
          "model_name": "LayoutModel",
          "model_module_version": "1.2.0",
          "state": {
            "_model_module": "@jupyter-widgets/base",
            "_model_module_version": "1.2.0",
            "_model_name": "LayoutModel",
            "_view_count": null,
            "_view_module": "@jupyter-widgets/base",
            "_view_module_version": "1.2.0",
            "_view_name": "LayoutView",
            "align_content": null,
            "align_items": null,
            "align_self": null,
            "border": null,
            "bottom": null,
            "display": null,
            "flex": null,
            "flex_flow": null,
            "grid_area": null,
            "grid_auto_columns": null,
            "grid_auto_flow": null,
            "grid_auto_rows": null,
            "grid_column": null,
            "grid_gap": null,
            "grid_row": null,
            "grid_template_areas": null,
            "grid_template_columns": null,
            "grid_template_rows": null,
            "height": null,
            "justify_content": null,
            "justify_items": null,
            "left": null,
            "margin": null,
            "max_height": null,
            "max_width": null,
            "min_height": null,
            "min_width": null,
            "object_fit": null,
            "object_position": null,
            "order": null,
            "overflow": null,
            "overflow_x": null,
            "overflow_y": null,
            "padding": null,
            "right": null,
            "top": null,
            "visibility": null,
            "width": null
          }
        },
        "8f08c53f80da4f5ea2e4a3c759500141": {
          "model_module": "@jupyter-widgets/controls",
          "model_name": "DescriptionStyleModel",
          "model_module_version": "1.5.0",
          "state": {
            "_model_module": "@jupyter-widgets/controls",
            "_model_module_version": "1.5.0",
            "_model_name": "DescriptionStyleModel",
            "_view_count": null,
            "_view_module": "@jupyter-widgets/base",
            "_view_module_version": "1.2.0",
            "_view_name": "StyleView",
            "description_width": ""
          }
        },
        "b5f63fc5411d45c9aec116b2021bb6df": {
          "model_module": "@jupyter-widgets/controls",
          "model_name": "HBoxModel",
          "model_module_version": "1.5.0",
          "state": {
            "_dom_classes": [],
            "_model_module": "@jupyter-widgets/controls",
            "_model_module_version": "1.5.0",
            "_model_name": "HBoxModel",
            "_view_count": null,
            "_view_module": "@jupyter-widgets/controls",
            "_view_module_version": "1.5.0",
            "_view_name": "HBoxView",
            "box_style": "",
            "children": [
              "IPY_MODEL_9dc171c004af4b02a3469aef7f266ae3",
              "IPY_MODEL_2f65a7b07b414e80ad13c7be4aeceeb3",
              "IPY_MODEL_bc28f91767794855a0c5dfe7d5b5be35"
            ],
            "layout": "IPY_MODEL_1344c68326494ddf8f4d406d5d433be6"
          }
        },
        "9dc171c004af4b02a3469aef7f266ae3": {
          "model_module": "@jupyter-widgets/controls",
          "model_name": "HTMLModel",
          "model_module_version": "1.5.0",
          "state": {
            "_dom_classes": [],
            "_model_module": "@jupyter-widgets/controls",
            "_model_module_version": "1.5.0",
            "_model_name": "HTMLModel",
            "_view_count": null,
            "_view_module": "@jupyter-widgets/controls",
            "_view_module_version": "1.5.0",
            "_view_name": "HTMLView",
            "description": "",
            "description_tooltip": null,
            "layout": "IPY_MODEL_8243fd03cfc14059985ed3ce4f3330ee",
            "placeholder": "​",
            "style": "IPY_MODEL_c79ca73513c440169b9141f71cacfb7f",
            "value": "Downloading: 100%"
          }
        },
        "2f65a7b07b414e80ad13c7be4aeceeb3": {
          "model_module": "@jupyter-widgets/controls",
          "model_name": "FloatProgressModel",
          "model_module_version": "1.5.0",
          "state": {
            "_dom_classes": [],
            "_model_module": "@jupyter-widgets/controls",
            "_model_module_version": "1.5.0",
            "_model_name": "FloatProgressModel",
            "_view_count": null,
            "_view_module": "@jupyter-widgets/controls",
            "_view_module_version": "1.5.0",
            "_view_name": "ProgressView",
            "bar_style": "success",
            "description": "",
            "description_tooltip": null,
            "layout": "IPY_MODEL_463f5eafce16442f8d61550c7fdf50c3",
            "max": 762,
            "min": 0,
            "orientation": "horizontal",
            "style": "IPY_MODEL_fd568eb8333a4a0b99834bf8fb5e3068",
            "value": 762
          }
        },
        "bc28f91767794855a0c5dfe7d5b5be35": {
          "model_module": "@jupyter-widgets/controls",
          "model_name": "HTMLModel",
          "model_module_version": "1.5.0",
          "state": {
            "_dom_classes": [],
            "_model_module": "@jupyter-widgets/controls",
            "_model_module_version": "1.5.0",
            "_model_name": "HTMLModel",
            "_view_count": null,
            "_view_module": "@jupyter-widgets/controls",
            "_view_module_version": "1.5.0",
            "_view_name": "HTMLView",
            "description": "",
            "description_tooltip": null,
            "layout": "IPY_MODEL_47597fb507884d3c93ef1d1f2930041b",
            "placeholder": "​",
            "style": "IPY_MODEL_26fa18b180f04994856ddc05f55be918",
            "value": " 762/762 [00:00&lt;00:00, 9.12kB/s]"
          }
        },
        "1344c68326494ddf8f4d406d5d433be6": {
          "model_module": "@jupyter-widgets/base",
          "model_name": "LayoutModel",
          "model_module_version": "1.2.0",
          "state": {
            "_model_module": "@jupyter-widgets/base",
            "_model_module_version": "1.2.0",
            "_model_name": "LayoutModel",
            "_view_count": null,
            "_view_module": "@jupyter-widgets/base",
            "_view_module_version": "1.2.0",
            "_view_name": "LayoutView",
            "align_content": null,
            "align_items": null,
            "align_self": null,
            "border": null,
            "bottom": null,
            "display": null,
            "flex": null,
            "flex_flow": null,
            "grid_area": null,
            "grid_auto_columns": null,
            "grid_auto_flow": null,
            "grid_auto_rows": null,
            "grid_column": null,
            "grid_gap": null,
            "grid_row": null,
            "grid_template_areas": null,
            "grid_template_columns": null,
            "grid_template_rows": null,
            "height": null,
            "justify_content": null,
            "justify_items": null,
            "left": null,
            "margin": null,
            "max_height": null,
            "max_width": null,
            "min_height": null,
            "min_width": null,
            "object_fit": null,
            "object_position": null,
            "order": null,
            "overflow": null,
            "overflow_x": null,
            "overflow_y": null,
            "padding": null,
            "right": null,
            "top": null,
            "visibility": null,
            "width": null
          }
        },
        "8243fd03cfc14059985ed3ce4f3330ee": {
          "model_module": "@jupyter-widgets/base",
          "model_name": "LayoutModel",
          "model_module_version": "1.2.0",
          "state": {
            "_model_module": "@jupyter-widgets/base",
            "_model_module_version": "1.2.0",
            "_model_name": "LayoutModel",
            "_view_count": null,
            "_view_module": "@jupyter-widgets/base",
            "_view_module_version": "1.2.0",
            "_view_name": "LayoutView",
            "align_content": null,
            "align_items": null,
            "align_self": null,
            "border": null,
            "bottom": null,
            "display": null,
            "flex": null,
            "flex_flow": null,
            "grid_area": null,
            "grid_auto_columns": null,
            "grid_auto_flow": null,
            "grid_auto_rows": null,
            "grid_column": null,
            "grid_gap": null,
            "grid_row": null,
            "grid_template_areas": null,
            "grid_template_columns": null,
            "grid_template_rows": null,
            "height": null,
            "justify_content": null,
            "justify_items": null,
            "left": null,
            "margin": null,
            "max_height": null,
            "max_width": null,
            "min_height": null,
            "min_width": null,
            "object_fit": null,
            "object_position": null,
            "order": null,
            "overflow": null,
            "overflow_x": null,
            "overflow_y": null,
            "padding": null,
            "right": null,
            "top": null,
            "visibility": null,
            "width": null
          }
        },
        "c79ca73513c440169b9141f71cacfb7f": {
          "model_module": "@jupyter-widgets/controls",
          "model_name": "DescriptionStyleModel",
          "model_module_version": "1.5.0",
          "state": {
            "_model_module": "@jupyter-widgets/controls",
            "_model_module_version": "1.5.0",
            "_model_name": "DescriptionStyleModel",
            "_view_count": null,
            "_view_module": "@jupyter-widgets/base",
            "_view_module_version": "1.2.0",
            "_view_name": "StyleView",
            "description_width": ""
          }
        },
        "463f5eafce16442f8d61550c7fdf50c3": {
          "model_module": "@jupyter-widgets/base",
          "model_name": "LayoutModel",
          "model_module_version": "1.2.0",
          "state": {
            "_model_module": "@jupyter-widgets/base",
            "_model_module_version": "1.2.0",
            "_model_name": "LayoutModel",
            "_view_count": null,
            "_view_module": "@jupyter-widgets/base",
            "_view_module_version": "1.2.0",
            "_view_name": "LayoutView",
            "align_content": null,
            "align_items": null,
            "align_self": null,
            "border": null,
            "bottom": null,
            "display": null,
            "flex": null,
            "flex_flow": null,
            "grid_area": null,
            "grid_auto_columns": null,
            "grid_auto_flow": null,
            "grid_auto_rows": null,
            "grid_column": null,
            "grid_gap": null,
            "grid_row": null,
            "grid_template_areas": null,
            "grid_template_columns": null,
            "grid_template_rows": null,
            "height": null,
            "justify_content": null,
            "justify_items": null,
            "left": null,
            "margin": null,
            "max_height": null,
            "max_width": null,
            "min_height": null,
            "min_width": null,
            "object_fit": null,
            "object_position": null,
            "order": null,
            "overflow": null,
            "overflow_x": null,
            "overflow_y": null,
            "padding": null,
            "right": null,
            "top": null,
            "visibility": null,
            "width": null
          }
        },
        "fd568eb8333a4a0b99834bf8fb5e3068": {
          "model_module": "@jupyter-widgets/controls",
          "model_name": "ProgressStyleModel",
          "model_module_version": "1.5.0",
          "state": {
            "_model_module": "@jupyter-widgets/controls",
            "_model_module_version": "1.5.0",
            "_model_name": "ProgressStyleModel",
            "_view_count": null,
            "_view_module": "@jupyter-widgets/base",
            "_view_module_version": "1.2.0",
            "_view_name": "StyleView",
            "bar_color": null,
            "description_width": ""
          }
        },
        "47597fb507884d3c93ef1d1f2930041b": {
          "model_module": "@jupyter-widgets/base",
          "model_name": "LayoutModel",
          "model_module_version": "1.2.0",
          "state": {
            "_model_module": "@jupyter-widgets/base",
            "_model_module_version": "1.2.0",
            "_model_name": "LayoutModel",
            "_view_count": null,
            "_view_module": "@jupyter-widgets/base",
            "_view_module_version": "1.2.0",
            "_view_name": "LayoutView",
            "align_content": null,
            "align_items": null,
            "align_self": null,
            "border": null,
            "bottom": null,
            "display": null,
            "flex": null,
            "flex_flow": null,
            "grid_area": null,
            "grid_auto_columns": null,
            "grid_auto_flow": null,
            "grid_auto_rows": null,
            "grid_column": null,
            "grid_gap": null,
            "grid_row": null,
            "grid_template_areas": null,
            "grid_template_columns": null,
            "grid_template_rows": null,
            "height": null,
            "justify_content": null,
            "justify_items": null,
            "left": null,
            "margin": null,
            "max_height": null,
            "max_width": null,
            "min_height": null,
            "min_width": null,
            "object_fit": null,
            "object_position": null,
            "order": null,
            "overflow": null,
            "overflow_x": null,
            "overflow_y": null,
            "padding": null,
            "right": null,
            "top": null,
            "visibility": null,
            "width": null
          }
        },
        "26fa18b180f04994856ddc05f55be918": {
          "model_module": "@jupyter-widgets/controls",
          "model_name": "DescriptionStyleModel",
          "model_module_version": "1.5.0",
          "state": {
            "_model_module": "@jupyter-widgets/controls",
            "_model_module_version": "1.5.0",
            "_model_name": "DescriptionStyleModel",
            "_view_count": null,
            "_view_module": "@jupyter-widgets/base",
            "_view_module_version": "1.2.0",
            "_view_name": "StyleView",
            "description_width": ""
          }
        },
        "bb0be57ecbe64dc3a5f1b437bb9ae485": {
          "model_module": "@jupyter-widgets/controls",
          "model_name": "HBoxModel",
          "model_module_version": "1.5.0",
          "state": {
            "_dom_classes": [],
            "_model_module": "@jupyter-widgets/controls",
            "_model_module_version": "1.5.0",
            "_model_name": "HBoxModel",
            "_view_count": null,
            "_view_module": "@jupyter-widgets/controls",
            "_view_module_version": "1.5.0",
            "_view_name": "HBoxView",
            "box_style": "",
            "children": [
              "IPY_MODEL_8f2fe332dc8b4150a19117f2d1896af3",
              "IPY_MODEL_686ca97e2cf3427a8bf0572bb726e3cf",
              "IPY_MODEL_943b7383dde445d78da94f7a98c4da2a"
            ],
            "layout": "IPY_MODEL_193e41b7b6874cd79827dd5da3f5e6a2"
          }
        },
        "8f2fe332dc8b4150a19117f2d1896af3": {
          "model_module": "@jupyter-widgets/controls",
          "model_name": "HTMLModel",
          "model_module_version": "1.5.0",
          "state": {
            "_dom_classes": [],
            "_model_module": "@jupyter-widgets/controls",
            "_model_module_version": "1.5.0",
            "_model_name": "HTMLModel",
            "_view_count": null,
            "_view_module": "@jupyter-widgets/controls",
            "_view_module_version": "1.5.0",
            "_view_name": "HTMLView",
            "description": "",
            "description_tooltip": null,
            "layout": "IPY_MODEL_3a00654d2b4d44708352b36ba2db685b",
            "placeholder": "​",
            "style": "IPY_MODEL_46ba20e65fe54e50a7a1c62fe8b51694",
            "value": "Downloading: 100%"
          }
        },
        "686ca97e2cf3427a8bf0572bb726e3cf": {
          "model_module": "@jupyter-widgets/controls",
          "model_name": "FloatProgressModel",
          "model_module_version": "1.5.0",
          "state": {
            "_dom_classes": [],
            "_model_module": "@jupyter-widgets/controls",
            "_model_module_version": "1.5.0",
            "_model_name": "FloatProgressModel",
            "_view_count": null,
            "_view_module": "@jupyter-widgets/controls",
            "_view_module_version": "1.5.0",
            "_view_name": "ProgressView",
            "bar_style": "success",
            "description": "",
            "description_tooltip": null,
            "layout": "IPY_MODEL_032df12330de4ae2a706a047f2f077b2",
            "max": 1338740706,
            "min": 0,
            "orientation": "horizontal",
            "style": "IPY_MODEL_b93cdc15d614401696e4dfe22b3ff6a1",
            "value": 1338740706
          }
        },
        "943b7383dde445d78da94f7a98c4da2a": {
          "model_module": "@jupyter-widgets/controls",
          "model_name": "HTMLModel",
          "model_module_version": "1.5.0",
          "state": {
            "_dom_classes": [],
            "_model_module": "@jupyter-widgets/controls",
            "_model_module_version": "1.5.0",
            "_model_name": "HTMLModel",
            "_view_count": null,
            "_view_module": "@jupyter-widgets/controls",
            "_view_module_version": "1.5.0",
            "_view_name": "HTMLView",
            "description": "",
            "description_tooltip": null,
            "layout": "IPY_MODEL_15af8bca26dc4d6398aa9f27bde1ddd7",
            "placeholder": "​",
            "style": "IPY_MODEL_86131b9e012c44e5886923ee681229e4",
            "value": " 1.34G/1.34G [00:53&lt;00:00, 27.2MB/s]"
          }
        },
        "193e41b7b6874cd79827dd5da3f5e6a2": {
          "model_module": "@jupyter-widgets/base",
          "model_name": "LayoutModel",
          "model_module_version": "1.2.0",
          "state": {
            "_model_module": "@jupyter-widgets/base",
            "_model_module_version": "1.2.0",
            "_model_name": "LayoutModel",
            "_view_count": null,
            "_view_module": "@jupyter-widgets/base",
            "_view_module_version": "1.2.0",
            "_view_name": "LayoutView",
            "align_content": null,
            "align_items": null,
            "align_self": null,
            "border": null,
            "bottom": null,
            "display": null,
            "flex": null,
            "flex_flow": null,
            "grid_area": null,
            "grid_auto_columns": null,
            "grid_auto_flow": null,
            "grid_auto_rows": null,
            "grid_column": null,
            "grid_gap": null,
            "grid_row": null,
            "grid_template_areas": null,
            "grid_template_columns": null,
            "grid_template_rows": null,
            "height": null,
            "justify_content": null,
            "justify_items": null,
            "left": null,
            "margin": null,
            "max_height": null,
            "max_width": null,
            "min_height": null,
            "min_width": null,
            "object_fit": null,
            "object_position": null,
            "order": null,
            "overflow": null,
            "overflow_x": null,
            "overflow_y": null,
            "padding": null,
            "right": null,
            "top": null,
            "visibility": null,
            "width": null
          }
        },
        "3a00654d2b4d44708352b36ba2db685b": {
          "model_module": "@jupyter-widgets/base",
          "model_name": "LayoutModel",
          "model_module_version": "1.2.0",
          "state": {
            "_model_module": "@jupyter-widgets/base",
            "_model_module_version": "1.2.0",
            "_model_name": "LayoutModel",
            "_view_count": null,
            "_view_module": "@jupyter-widgets/base",
            "_view_module_version": "1.2.0",
            "_view_name": "LayoutView",
            "align_content": null,
            "align_items": null,
            "align_self": null,
            "border": null,
            "bottom": null,
            "display": null,
            "flex": null,
            "flex_flow": null,
            "grid_area": null,
            "grid_auto_columns": null,
            "grid_auto_flow": null,
            "grid_auto_rows": null,
            "grid_column": null,
            "grid_gap": null,
            "grid_row": null,
            "grid_template_areas": null,
            "grid_template_columns": null,
            "grid_template_rows": null,
            "height": null,
            "justify_content": null,
            "justify_items": null,
            "left": null,
            "margin": null,
            "max_height": null,
            "max_width": null,
            "min_height": null,
            "min_width": null,
            "object_fit": null,
            "object_position": null,
            "order": null,
            "overflow": null,
            "overflow_x": null,
            "overflow_y": null,
            "padding": null,
            "right": null,
            "top": null,
            "visibility": null,
            "width": null
          }
        },
        "46ba20e65fe54e50a7a1c62fe8b51694": {
          "model_module": "@jupyter-widgets/controls",
          "model_name": "DescriptionStyleModel",
          "model_module_version": "1.5.0",
          "state": {
            "_model_module": "@jupyter-widgets/controls",
            "_model_module_version": "1.5.0",
            "_model_name": "DescriptionStyleModel",
            "_view_count": null,
            "_view_module": "@jupyter-widgets/base",
            "_view_module_version": "1.2.0",
            "_view_name": "StyleView",
            "description_width": ""
          }
        },
        "032df12330de4ae2a706a047f2f077b2": {
          "model_module": "@jupyter-widgets/base",
          "model_name": "LayoutModel",
          "model_module_version": "1.2.0",
          "state": {
            "_model_module": "@jupyter-widgets/base",
            "_model_module_version": "1.2.0",
            "_model_name": "LayoutModel",
            "_view_count": null,
            "_view_module": "@jupyter-widgets/base",
            "_view_module_version": "1.2.0",
            "_view_name": "LayoutView",
            "align_content": null,
            "align_items": null,
            "align_self": null,
            "border": null,
            "bottom": null,
            "display": null,
            "flex": null,
            "flex_flow": null,
            "grid_area": null,
            "grid_auto_columns": null,
            "grid_auto_flow": null,
            "grid_auto_rows": null,
            "grid_column": null,
            "grid_gap": null,
            "grid_row": null,
            "grid_template_areas": null,
            "grid_template_columns": null,
            "grid_template_rows": null,
            "height": null,
            "justify_content": null,
            "justify_items": null,
            "left": null,
            "margin": null,
            "max_height": null,
            "max_width": null,
            "min_height": null,
            "min_width": null,
            "object_fit": null,
            "object_position": null,
            "order": null,
            "overflow": null,
            "overflow_x": null,
            "overflow_y": null,
            "padding": null,
            "right": null,
            "top": null,
            "visibility": null,
            "width": null
          }
        },
        "b93cdc15d614401696e4dfe22b3ff6a1": {
          "model_module": "@jupyter-widgets/controls",
          "model_name": "ProgressStyleModel",
          "model_module_version": "1.5.0",
          "state": {
            "_model_module": "@jupyter-widgets/controls",
            "_model_module_version": "1.5.0",
            "_model_name": "ProgressStyleModel",
            "_view_count": null,
            "_view_module": "@jupyter-widgets/base",
            "_view_module_version": "1.2.0",
            "_view_name": "StyleView",
            "bar_color": null,
            "description_width": ""
          }
        },
        "15af8bca26dc4d6398aa9f27bde1ddd7": {
          "model_module": "@jupyter-widgets/base",
          "model_name": "LayoutModel",
          "model_module_version": "1.2.0",
          "state": {
            "_model_module": "@jupyter-widgets/base",
            "_model_module_version": "1.2.0",
            "_model_name": "LayoutModel",
            "_view_count": null,
            "_view_module": "@jupyter-widgets/base",
            "_view_module_version": "1.2.0",
            "_view_name": "LayoutView",
            "align_content": null,
            "align_items": null,
            "align_self": null,
            "border": null,
            "bottom": null,
            "display": null,
            "flex": null,
            "flex_flow": null,
            "grid_area": null,
            "grid_auto_columns": null,
            "grid_auto_flow": null,
            "grid_auto_rows": null,
            "grid_column": null,
            "grid_gap": null,
            "grid_row": null,
            "grid_template_areas": null,
            "grid_template_columns": null,
            "grid_template_rows": null,
            "height": null,
            "justify_content": null,
            "justify_items": null,
            "left": null,
            "margin": null,
            "max_height": null,
            "max_width": null,
            "min_height": null,
            "min_width": null,
            "object_fit": null,
            "object_position": null,
            "order": null,
            "overflow": null,
            "overflow_x": null,
            "overflow_y": null,
            "padding": null,
            "right": null,
            "top": null,
            "visibility": null,
            "width": null
          }
        },
        "86131b9e012c44e5886923ee681229e4": {
          "model_module": "@jupyter-widgets/controls",
          "model_name": "DescriptionStyleModel",
          "model_module_version": "1.5.0",
          "state": {
            "_model_module": "@jupyter-widgets/controls",
            "_model_module_version": "1.5.0",
            "_model_name": "DescriptionStyleModel",
            "_view_count": null,
            "_view_module": "@jupyter-widgets/base",
            "_view_module_version": "1.2.0",
            "_view_name": "StyleView",
            "description_width": ""
          }
        }
      }
    }
  },
  "cells": [
    {
      "cell_type": "markdown",
      "metadata": {
        "id": "view-in-github",
        "colab_type": "text"
      },
      "source": [
        "<a href=\"https://colab.research.google.com/github/lisaqhou4/ML_final_project/blob/main/TCM_Prediction.ipynb\" target=\"_parent\"><img src=\"https://colab.research.google.com/assets/colab-badge.svg\" alt=\"Open In Colab\"/></a>"
      ]
    },
    {
      "cell_type": "code",
      "source": [
        "!pip install -q -U watermark"
      ],
      "metadata": {
        "colab": {
          "base_uri": "https://localhost:8080/"
        },
        "id": "gbJCqiiZjcr_",
        "outputId": "80a11995-8684-471f-aa06-b5e91e29ed0c"
      },
      "execution_count": 42,
      "outputs": [
        {
          "output_type": "stream",
          "name": "stdout",
          "text": [
            "\u001b[?25l\r\u001b[K     |▏                               | 10 kB 43.5 MB/s eta 0:00:01\r\u001b[K     |▍                               | 20 kB 26.9 MB/s eta 0:00:01\r\u001b[K     |▋                               | 30 kB 32.9 MB/s eta 0:00:01\r\u001b[K     |▉                               | 40 kB 18.2 MB/s eta 0:00:01\r\u001b[K     |█                               | 51 kB 20.9 MB/s eta 0:00:01\r\u001b[K     |█▎                              | 61 kB 24.0 MB/s eta 0:00:01\r\u001b[K     |█▌                              | 71 kB 22.1 MB/s eta 0:00:01\r\u001b[K     |█▊                              | 81 kB 23.8 MB/s eta 0:00:01\r\u001b[K     |█▉                              | 92 kB 25.1 MB/s eta 0:00:01\r\u001b[K     |██                              | 102 kB 25.3 MB/s eta 0:00:01\r\u001b[K     |██▎                             | 112 kB 25.3 MB/s eta 0:00:01\r\u001b[K     |██▌                             | 122 kB 25.3 MB/s eta 0:00:01\r\u001b[K     |██▊                             | 133 kB 25.3 MB/s eta 0:00:01\r\u001b[K     |███                             | 143 kB 25.3 MB/s eta 0:00:01\r\u001b[K     |███▏                            | 153 kB 25.3 MB/s eta 0:00:01\r\u001b[K     |███▍                            | 163 kB 25.3 MB/s eta 0:00:01\r\u001b[K     |███▌                            | 174 kB 25.3 MB/s eta 0:00:01\r\u001b[K     |███▊                            | 184 kB 25.3 MB/s eta 0:00:01\r\u001b[K     |████                            | 194 kB 25.3 MB/s eta 0:00:01\r\u001b[K     |████▏                           | 204 kB 25.3 MB/s eta 0:00:01\r\u001b[K     |████▍                           | 215 kB 25.3 MB/s eta 0:00:01\r\u001b[K     |████▋                           | 225 kB 25.3 MB/s eta 0:00:01\r\u001b[K     |████▉                           | 235 kB 25.3 MB/s eta 0:00:01\r\u001b[K     |█████                           | 245 kB 25.3 MB/s eta 0:00:01\r\u001b[K     |█████▎                          | 256 kB 25.3 MB/s eta 0:00:01\r\u001b[K     |█████▍                          | 266 kB 25.3 MB/s eta 0:00:01\r\u001b[K     |█████▋                          | 276 kB 25.3 MB/s eta 0:00:01\r\u001b[K     |█████▉                          | 286 kB 25.3 MB/s eta 0:00:01\r\u001b[K     |██████                          | 296 kB 25.3 MB/s eta 0:00:01\r\u001b[K     |██████▎                         | 307 kB 25.3 MB/s eta 0:00:01\r\u001b[K     |██████▌                         | 317 kB 25.3 MB/s eta 0:00:01\r\u001b[K     |██████▊                         | 327 kB 25.3 MB/s eta 0:00:01\r\u001b[K     |███████                         | 337 kB 25.3 MB/s eta 0:00:01\r\u001b[K     |███████                         | 348 kB 25.3 MB/s eta 0:00:01\r\u001b[K     |███████▎                        | 358 kB 25.3 MB/s eta 0:00:01\r\u001b[K     |███████▌                        | 368 kB 25.3 MB/s eta 0:00:01\r\u001b[K     |███████▊                        | 378 kB 25.3 MB/s eta 0:00:01\r\u001b[K     |████████                        | 389 kB 25.3 MB/s eta 0:00:01\r\u001b[K     |████████▏                       | 399 kB 25.3 MB/s eta 0:00:01\r\u001b[K     |████████▍                       | 409 kB 25.3 MB/s eta 0:00:01\r\u001b[K     |████████▋                       | 419 kB 25.3 MB/s eta 0:00:01\r\u001b[K     |████████▊                       | 430 kB 25.3 MB/s eta 0:00:01\r\u001b[K     |█████████                       | 440 kB 25.3 MB/s eta 0:00:01\r\u001b[K     |█████████▏                      | 450 kB 25.3 MB/s eta 0:00:01\r\u001b[K     |█████████▍                      | 460 kB 25.3 MB/s eta 0:00:01\r\u001b[K     |█████████▋                      | 471 kB 25.3 MB/s eta 0:00:01\r\u001b[K     |█████████▉                      | 481 kB 25.3 MB/s eta 0:00:01\r\u001b[K     |██████████                      | 491 kB 25.3 MB/s eta 0:00:01\r\u001b[K     |██████████▎                     | 501 kB 25.3 MB/s eta 0:00:01\r\u001b[K     |██████████▌                     | 512 kB 25.3 MB/s eta 0:00:01\r\u001b[K     |██████████▋                     | 522 kB 25.3 MB/s eta 0:00:01\r\u001b[K     |██████████▉                     | 532 kB 25.3 MB/s eta 0:00:01\r\u001b[K     |███████████                     | 542 kB 25.3 MB/s eta 0:00:01\r\u001b[K     |███████████▎                    | 552 kB 25.3 MB/s eta 0:00:01\r\u001b[K     |███████████▌                    | 563 kB 25.3 MB/s eta 0:00:01\r\u001b[K     |███████████▊                    | 573 kB 25.3 MB/s eta 0:00:01\r\u001b[K     |████████████                    | 583 kB 25.3 MB/s eta 0:00:01\r\u001b[K     |████████████▏                   | 593 kB 25.3 MB/s eta 0:00:01\r\u001b[K     |████████████▎                   | 604 kB 25.3 MB/s eta 0:00:01\r\u001b[K     |████████████▌                   | 614 kB 25.3 MB/s eta 0:00:01\r\u001b[K     |████████████▊                   | 624 kB 25.3 MB/s eta 0:00:01\r\u001b[K     |█████████████                   | 634 kB 25.3 MB/s eta 0:00:01\r\u001b[K     |█████████████▏                  | 645 kB 25.3 MB/s eta 0:00:01\r\u001b[K     |█████████████▍                  | 655 kB 25.3 MB/s eta 0:00:01\r\u001b[K     |█████████████▋                  | 665 kB 25.3 MB/s eta 0:00:01\r\u001b[K     |█████████████▉                  | 675 kB 25.3 MB/s eta 0:00:01\r\u001b[K     |██████████████                  | 686 kB 25.3 MB/s eta 0:00:01\r\u001b[K     |██████████████▏                 | 696 kB 25.3 MB/s eta 0:00:01\r\u001b[K     |██████████████▍                 | 706 kB 25.3 MB/s eta 0:00:01\r\u001b[K     |██████████████▋                 | 716 kB 25.3 MB/s eta 0:00:01\r\u001b[K     |██████████████▉                 | 727 kB 25.3 MB/s eta 0:00:01\r\u001b[K     |███████████████                 | 737 kB 25.3 MB/s eta 0:00:01\r\u001b[K     |███████████████▎                | 747 kB 25.3 MB/s eta 0:00:01\r\u001b[K     |███████████████▌                | 757 kB 25.3 MB/s eta 0:00:01\r\u001b[K     |███████████████▊                | 768 kB 25.3 MB/s eta 0:00:01\r\u001b[K     |███████████████▉                | 778 kB 25.3 MB/s eta 0:00:01\r\u001b[K     |████████████████                | 788 kB 25.3 MB/s eta 0:00:01\r\u001b[K     |████████████████▎               | 798 kB 25.3 MB/s eta 0:00:01\r\u001b[K     |████████████████▌               | 808 kB 25.3 MB/s eta 0:00:01\r\u001b[K     |████████████████▊               | 819 kB 25.3 MB/s eta 0:00:01\r\u001b[K     |█████████████████               | 829 kB 25.3 MB/s eta 0:00:01\r\u001b[K     |█████████████████▏              | 839 kB 25.3 MB/s eta 0:00:01\r\u001b[K     |█████████████████▍              | 849 kB 25.3 MB/s eta 0:00:01\r\u001b[K     |█████████████████▌              | 860 kB 25.3 MB/s eta 0:00:01\r\u001b[K     |█████████████████▊              | 870 kB 25.3 MB/s eta 0:00:01\r\u001b[K     |██████████████████              | 880 kB 25.3 MB/s eta 0:00:01\r\u001b[K     |██████████████████▏             | 890 kB 25.3 MB/s eta 0:00:01\r\u001b[K     |██████████████████▍             | 901 kB 25.3 MB/s eta 0:00:01\r\u001b[K     |██████████████████▋             | 911 kB 25.3 MB/s eta 0:00:01\r\u001b[K     |██████████████████▉             | 921 kB 25.3 MB/s eta 0:00:01\r\u001b[K     |███████████████████             | 931 kB 25.3 MB/s eta 0:00:01\r\u001b[K     |███████████████████▎            | 942 kB 25.3 MB/s eta 0:00:01\r\u001b[K     |███████████████████▍            | 952 kB 25.3 MB/s eta 0:00:01\r\u001b[K     |███████████████████▋            | 962 kB 25.3 MB/s eta 0:00:01\r\u001b[K     |███████████████████▉            | 972 kB 25.3 MB/s eta 0:00:01\r\u001b[K     |████████████████████            | 983 kB 25.3 MB/s eta 0:00:01\r\u001b[K     |████████████████████▎           | 993 kB 25.3 MB/s eta 0:00:01\r\u001b[K     |████████████████████▌           | 1.0 MB 25.3 MB/s eta 0:00:01\r\u001b[K     |████████████████████▊           | 1.0 MB 25.3 MB/s eta 0:00:01\r\u001b[K     |█████████████████████           | 1.0 MB 25.3 MB/s eta 0:00:01\r\u001b[K     |█████████████████████           | 1.0 MB 25.3 MB/s eta 0:00:01\r\u001b[K     |█████████████████████▎          | 1.0 MB 25.3 MB/s eta 0:00:01\r\u001b[K     |█████████████████████▌          | 1.1 MB 25.3 MB/s eta 0:00:01\r\u001b[K     |█████████████████████▊          | 1.1 MB 25.3 MB/s eta 0:00:01\r\u001b[K     |██████████████████████          | 1.1 MB 25.3 MB/s eta 0:00:01\r\u001b[K     |██████████████████████▏         | 1.1 MB 25.3 MB/s eta 0:00:01\r\u001b[K     |██████████████████████▍         | 1.1 MB 25.3 MB/s eta 0:00:01\r\u001b[K     |██████████████████████▋         | 1.1 MB 25.3 MB/s eta 0:00:01\r\u001b[K     |██████████████████████▊         | 1.1 MB 25.3 MB/s eta 0:00:01\r\u001b[K     |███████████████████████         | 1.1 MB 25.3 MB/s eta 0:00:01\r\u001b[K     |███████████████████████▏        | 1.1 MB 25.3 MB/s eta 0:00:01\r\u001b[K     |███████████████████████▍        | 1.1 MB 25.3 MB/s eta 0:00:01\r\u001b[K     |███████████████████████▋        | 1.2 MB 25.3 MB/s eta 0:00:01\r\u001b[K     |███████████████████████▉        | 1.2 MB 25.3 MB/s eta 0:00:01\r\u001b[K     |████████████████████████        | 1.2 MB 25.3 MB/s eta 0:00:01\r\u001b[K     |████████████████████████▎       | 1.2 MB 25.3 MB/s eta 0:00:01\r\u001b[K     |████████████████████████▌       | 1.2 MB 25.3 MB/s eta 0:00:01\r\u001b[K     |████████████████████████▋       | 1.2 MB 25.3 MB/s eta 0:00:01\r\u001b[K     |████████████████████████▉       | 1.2 MB 25.3 MB/s eta 0:00:01\r\u001b[K     |█████████████████████████       | 1.2 MB 25.3 MB/s eta 0:00:01\r\u001b[K     |█████████████████████████▎      | 1.2 MB 25.3 MB/s eta 0:00:01\r\u001b[K     |█████████████████████████▌      | 1.2 MB 25.3 MB/s eta 0:00:01\r\u001b[K     |█████████████████████████▊      | 1.3 MB 25.3 MB/s eta 0:00:01\r\u001b[K     |██████████████████████████      | 1.3 MB 25.3 MB/s eta 0:00:01\r\u001b[K     |██████████████████████████▏     | 1.3 MB 25.3 MB/s eta 0:00:01\r\u001b[K     |██████████████████████████▎     | 1.3 MB 25.3 MB/s eta 0:00:01\r\u001b[K     |██████████████████████████▌     | 1.3 MB 25.3 MB/s eta 0:00:01\r\u001b[K     |██████████████████████████▊     | 1.3 MB 25.3 MB/s eta 0:00:01\r\u001b[K     |███████████████████████████     | 1.3 MB 25.3 MB/s eta 0:00:01\r\u001b[K     |███████████████████████████▏    | 1.3 MB 25.3 MB/s eta 0:00:01\r\u001b[K     |███████████████████████████▍    | 1.3 MB 25.3 MB/s eta 0:00:01\r\u001b[K     |███████████████████████████▋    | 1.4 MB 25.3 MB/s eta 0:00:01\r\u001b[K     |███████████████████████████▉    | 1.4 MB 25.3 MB/s eta 0:00:01\r\u001b[K     |████████████████████████████    | 1.4 MB 25.3 MB/s eta 0:00:01\r\u001b[K     |████████████████████████████▏   | 1.4 MB 25.3 MB/s eta 0:00:01\r\u001b[K     |████████████████████████████▍   | 1.4 MB 25.3 MB/s eta 0:00:01\r\u001b[K     |████████████████████████████▋   | 1.4 MB 25.3 MB/s eta 0:00:01\r\u001b[K     |████████████████████████████▉   | 1.4 MB 25.3 MB/s eta 0:00:01\r\u001b[K     |█████████████████████████████   | 1.4 MB 25.3 MB/s eta 0:00:01\r\u001b[K     |█████████████████████████████▎  | 1.4 MB 25.3 MB/s eta 0:00:01\r\u001b[K     |█████████████████████████████▌  | 1.4 MB 25.3 MB/s eta 0:00:01\r\u001b[K     |█████████████████████████████▊  | 1.5 MB 25.3 MB/s eta 0:00:01\r\u001b[K     |█████████████████████████████▉  | 1.5 MB 25.3 MB/s eta 0:00:01\r\u001b[K     |██████████████████████████████  | 1.5 MB 25.3 MB/s eta 0:00:01\r\u001b[K     |██████████████████████████████▎ | 1.5 MB 25.3 MB/s eta 0:00:01\r\u001b[K     |██████████████████████████████▌ | 1.5 MB 25.3 MB/s eta 0:00:01\r\u001b[K     |██████████████████████████████▊ | 1.5 MB 25.3 MB/s eta 0:00:01\r\u001b[K     |███████████████████████████████ | 1.5 MB 25.3 MB/s eta 0:00:01\r\u001b[K     |███████████████████████████████▏| 1.5 MB 25.3 MB/s eta 0:00:01\r\u001b[K     |███████████████████████████████▍| 1.5 MB 25.3 MB/s eta 0:00:01\r\u001b[K     |███████████████████████████████▌| 1.5 MB 25.3 MB/s eta 0:00:01\r\u001b[K     |███████████████████████████████▊| 1.6 MB 25.3 MB/s eta 0:00:01\r\u001b[K     |████████████████████████████████| 1.6 MB 25.3 MB/s eta 0:00:01\r\u001b[K     |████████████████████████████████| 1.6 MB 25.3 MB/s \n",
            "\u001b[?25h"
          ]
        }
      ]
    },
    {
      "cell_type": "code",
      "source": [
        "!pip install -q transformers"
      ],
      "metadata": {
        "colab": {
          "base_uri": "https://localhost:8080/"
        },
        "id": "0IT6dmh7jgtn",
        "outputId": "775b5c42-046c-4a52-d8fc-99f966018104"
      },
      "execution_count": 43,
      "outputs": [
        {
          "output_type": "stream",
          "name": "stdout",
          "text": [
            "\u001b[K     |████████████████████████████████| 5.8 MB 15.9 MB/s \n",
            "\u001b[K     |████████████████████████████████| 7.6 MB 48.6 MB/s \n",
            "\u001b[K     |████████████████████████████████| 182 kB 27.3 MB/s \n",
            "\u001b[?25h"
          ]
        }
      ]
    },
    {
      "cell_type": "code",
      "source": [
        "!pip install emoji --upgrade"
      ],
      "metadata": {
        "colab": {
          "base_uri": "https://localhost:8080/"
        },
        "id": "BVk_PdrOjj9B",
        "outputId": "8cc21deb-f418-497c-d412-7cb3de0c5707"
      },
      "execution_count": 44,
      "outputs": [
        {
          "output_type": "stream",
          "name": "stdout",
          "text": [
            "Looking in indexes: https://pypi.org/simple, https://us-python.pkg.dev/colab-wheels/public/simple/\n",
            "Collecting emoji\n",
            "  Downloading emoji-2.2.0.tar.gz (240 kB)\n",
            "\u001b[K     |████████████████████████████████| 240 kB 11.3 MB/s \n",
            "\u001b[?25hBuilding wheels for collected packages: emoji\n",
            "  Building wheel for emoji (setup.py) ... \u001b[?25l\u001b[?25hdone\n",
            "  Created wheel for emoji: filename=emoji-2.2.0-py3-none-any.whl size=234926 sha256=c88018735f1d090c284fc5e19e64b084a9375ecdd097a5ee3e2edd84ae3c2185\n",
            "  Stored in directory: /root/.cache/pip/wheels/86/62/9e/a6b27a681abcde69970dbc0326ff51955f3beac72f15696984\n",
            "Successfully built emoji\n",
            "Installing collected packages: emoji\n",
            "Successfully installed emoji-2.2.0\n"
          ]
        }
      ]
    },
    {
      "cell_type": "code",
      "source": [
        "%reload_ext watermark\n",
        "%watermark -v -p numpy,pandas,torch,transformers"
      ],
      "metadata": {
        "colab": {
          "base_uri": "https://localhost:8080/"
        },
        "id": "wvluESDgjl2A",
        "outputId": "5a83ca04-e026-4150-f083-47cb1547a9a1"
      },
      "execution_count": 45,
      "outputs": [
        {
          "output_type": "stream",
          "name": "stdout",
          "text": [
            "Python implementation: CPython\n",
            "Python version       : 3.8.16\n",
            "IPython version      : 7.9.0\n",
            "\n",
            "numpy       : 1.21.6\n",
            "pandas      : 1.3.5\n",
            "torch       : 1.13.0+cu116\n",
            "transformers: 4.25.1\n",
            "\n"
          ]
        }
      ]
    },
    {
      "cell_type": "code",
      "source": [
        "import transformers\n",
        "from transformers import BertModel, BertTokenizer, AdamW, get_linear_schedule_with_warmup\n",
        "\n",
        "import torch\n",
        "from torch.utils.data import Dataset, DataLoader\n",
        "\n",
        "import numpy as np\n",
        "import pandas as pd\n",
        "import seaborn as sns\n",
        "import matplotlib.pyplot as plt\n",
        "from matplotlib import rc\n",
        "from sklearn.model_selection import train_test_split\n",
        "from textwrap import wrap\n",
        "import re\n",
        "from emoji import demojize\n",
        "import emoji\n",
        "\n",
        "from google.colab import drive\n",
        "drive.mount('/content/drive')"
      ],
      "metadata": {
        "colab": {
          "base_uri": "https://localhost:8080/"
        },
        "id": "PbIzuch_Zihl",
        "outputId": "a0081d95-72d2-48db-ed3c-2231be8504cb"
      },
      "execution_count": 46,
      "outputs": [
        {
          "output_type": "stream",
          "name": "stdout",
          "text": [
            "Drive already mounted at /content/drive; to attempt to forcibly remount, call drive.mount(\"/content/drive\", force_remount=True).\n"
          ]
        }
      ]
    },
    {
      "cell_type": "code",
      "source": [
        "%matplotlib inline\n",
        "%config InlineBackend.figure_format='retina'\n",
        "from pylab import rcParams\n",
        "sns.set(style='whitegrid', palette='muted', font_scale=1.2)\n",
        "\n",
        "HAPPY_COLORS_PALETTE = [\"#01BEFE\", \"#FFDD00\", \"#FF7D00\", \"#FF006D\", \"#ADFF02\", \"#8F00FF\"]\n",
        "\n",
        "sns.set_palette(sns.color_palette(HAPPY_COLORS_PALETTE))\n",
        "\n",
        "rcParams['figure.figsize'] = 12, 8\n",
        "\n",
        "RANDOM_SEED = 42\n",
        "np.random.seed(RANDOM_SEED)\n",
        "torch.manual_seed(RANDOM_SEED)\n",
        "\n",
        "device = torch.device(\"cuda:0\" if torch.cuda.is_available() else \"cpu\")\n",
        "device"
      ],
      "metadata": {
        "colab": {
          "base_uri": "https://localhost:8080/"
        },
        "id": "er0yYgY-lssA",
        "outputId": "3f0e1b4a-c66b-4835-9b3c-e298c60aa4a9"
      },
      "execution_count": 54,
      "outputs": [
        {
          "output_type": "execute_result",
          "data": {
            "text/plain": [
              "device(type='cpu')"
            ]
          },
          "metadata": {},
          "execution_count": 54
        }
      ]
    },
    {
      "cell_type": "code",
      "source": [
        "file_path = '/content/drive/MyDrive/fine_tune_model_dict_shuffle_llr_gen_entire.bin'"
      ],
      "metadata": {
        "id": "IhcwL3FpZ5a6"
      },
      "execution_count": 58,
      "outputs": []
    },
    {
      "cell_type": "code",
      "execution_count": 79,
      "metadata": {
        "id": "9eSNoTVtWp_K"
      },
      "outputs": [],
      "source": [
        "import pandas as pd\n",
        "file_path = '/content/drive/MyDrive/tcm_data/acupuncture_12_15.xlsx'\n",
        "df_ap = pd.read_excel(file_path)\n",
        "\n",
        "file_path = '/content/drive/MyDrive/tcm_data/herbal_medicine_12_15.xlsx'\n",
        "df_hm = pd.read_excel(file_path)\n",
        "\n",
        "file_path = '/content/drive/MyDrive/tcm_data/integrative_medicine_12_15.xlsx'\n",
        "df_im = pd.read_excel(file_path)\n",
        "\n",
        "file_path = '/content/drive/MyDrive/tcm_data/qigong_12_15.xlsx'\n",
        "df_qg = pd.read_excel(file_path)\n",
        "\n",
        "file_path = '/content/drive/MyDrive/tcm_data/tcm_12_15.xlsx'\n",
        "df_tcm = pd.read_excel(file_path)\n",
        "\n",
        "df = pd.concat([df_ap, df_hm, df_im, df_qg, df_tcm], axis=0)"
      ]
    },
    {
      "cell_type": "code",
      "source": [
        "df.head(3)"
      ],
      "metadata": {
        "colab": {
          "base_uri": "https://localhost:8080/",
          "height": 433
        },
        "id": "y5rkgjbUZirk",
        "outputId": "cd212f89-9994-4754-84d7-77638cb979c3"
      },
      "execution_count": 29,
      "outputs": [
        {
          "output_type": "execute_result",
          "data": {
            "text/plain": [
              "              Tweet Id                                               Text  \\\n",
              "0  1603475957704032256  Acupuncture for Dogs and Cats (A Pocket Atlas)...   \n",
              "1  1603474920897450028  RT @mane3sha : things that will end up making ...   \n",
              "2  1603474658422099978  RT @mane3sha : things that will end up making ...   \n",
              "\n",
              "                 Name  Screen Name                       UTC  \\\n",
              "0      Carleton67gHsI  carleton67g  2022-12-15T19:43:54.000Z   \n",
              "1  It is well with us    kedem2134  2022-12-15T19:39:46.000Z   \n",
              "2      /Rah•kem/(ism)  OldmanRakim  2022-12-15T19:38:44.000Z   \n",
              "\n",
              "                       Created At  Favorites  Retweets Language  \\\n",
              "0  Thu Dec 15 19:43:54 +0000 2022          0         0       en   \n",
              "1  Thu Dec 15 19:39:46 +0000 2022          0         0       en   \n",
              "2  Thu Dec 15 19:38:44 +0000 2022          0         0       en   \n",
              "\n",
              "                                              Client Tweet Type  \\\n",
              "0  <a href=\"https://mobile.twitter.com\" rel=\"nofo...      Tweet   \n",
              "1  <a href=\"http://twitter.com/download/android\" ...    Retweet   \n",
              "2  <a href=\"http://twitter.com/download/iphone\" r...    Retweet   \n",
              "\n",
              "                                                URLs  Hashtags  Mentions  \\\n",
              "0  https://www.amazon.com/dp/3131546913?tag=lance...         0         0   \n",
              "1                                                NaN         0         0   \n",
              "2                                                NaN         0         0   \n",
              "\n",
              "  Media Type                                       Media URLs Unnamed: 16  \\\n",
              "0      photo  https://pbs.twimg.com/media/FkCw4L7UoAALNOM.jpg         NaN   \n",
              "1        NaN                                              NaN         NaN   \n",
              "2        NaN                                              NaN         NaN   \n",
              "\n",
              "  Unnamed: 17 Unnamed: 18  \n",
              "0         NaN         NaN  \n",
              "1         NaN         NaN  \n",
              "2         NaN         NaN  "
            ],
            "text/html": [
              "\n",
              "  <div id=\"df-9d3f0553-58c7-47ff-af31-adde682a21f2\">\n",
              "    <div class=\"colab-df-container\">\n",
              "      <div>\n",
              "<style scoped>\n",
              "    .dataframe tbody tr th:only-of-type {\n",
              "        vertical-align: middle;\n",
              "    }\n",
              "\n",
              "    .dataframe tbody tr th {\n",
              "        vertical-align: top;\n",
              "    }\n",
              "\n",
              "    .dataframe thead th {\n",
              "        text-align: right;\n",
              "    }\n",
              "</style>\n",
              "<table border=\"1\" class=\"dataframe\">\n",
              "  <thead>\n",
              "    <tr style=\"text-align: right;\">\n",
              "      <th></th>\n",
              "      <th>Tweet Id</th>\n",
              "      <th>Text</th>\n",
              "      <th>Name</th>\n",
              "      <th>Screen Name</th>\n",
              "      <th>UTC</th>\n",
              "      <th>Created At</th>\n",
              "      <th>Favorites</th>\n",
              "      <th>Retweets</th>\n",
              "      <th>Language</th>\n",
              "      <th>Client</th>\n",
              "      <th>Tweet Type</th>\n",
              "      <th>URLs</th>\n",
              "      <th>Hashtags</th>\n",
              "      <th>Mentions</th>\n",
              "      <th>Media Type</th>\n",
              "      <th>Media URLs</th>\n",
              "      <th>Unnamed: 16</th>\n",
              "      <th>Unnamed: 17</th>\n",
              "      <th>Unnamed: 18</th>\n",
              "    </tr>\n",
              "  </thead>\n",
              "  <tbody>\n",
              "    <tr>\n",
              "      <th>0</th>\n",
              "      <td>1603475957704032256</td>\n",
              "      <td>Acupuncture for Dogs and Cats (A Pocket Atlas)...</td>\n",
              "      <td>Carleton67gHsI</td>\n",
              "      <td>carleton67g</td>\n",
              "      <td>2022-12-15T19:43:54.000Z</td>\n",
              "      <td>Thu Dec 15 19:43:54 +0000 2022</td>\n",
              "      <td>0</td>\n",
              "      <td>0</td>\n",
              "      <td>en</td>\n",
              "      <td>&lt;a href=\"https://mobile.twitter.com\" rel=\"nofo...</td>\n",
              "      <td>Tweet</td>\n",
              "      <td>https://www.amazon.com/dp/3131546913?tag=lance...</td>\n",
              "      <td>0</td>\n",
              "      <td>0</td>\n",
              "      <td>photo</td>\n",
              "      <td>https://pbs.twimg.com/media/FkCw4L7UoAALNOM.jpg</td>\n",
              "      <td>NaN</td>\n",
              "      <td>NaN</td>\n",
              "      <td>NaN</td>\n",
              "    </tr>\n",
              "    <tr>\n",
              "      <th>1</th>\n",
              "      <td>1603474920897450028</td>\n",
              "      <td>RT @mane3sha : things that will end up making ...</td>\n",
              "      <td>It is well with us</td>\n",
              "      <td>kedem2134</td>\n",
              "      <td>2022-12-15T19:39:46.000Z</td>\n",
              "      <td>Thu Dec 15 19:39:46 +0000 2022</td>\n",
              "      <td>0</td>\n",
              "      <td>0</td>\n",
              "      <td>en</td>\n",
              "      <td>&lt;a href=\"http://twitter.com/download/android\" ...</td>\n",
              "      <td>Retweet</td>\n",
              "      <td>NaN</td>\n",
              "      <td>0</td>\n",
              "      <td>0</td>\n",
              "      <td>NaN</td>\n",
              "      <td>NaN</td>\n",
              "      <td>NaN</td>\n",
              "      <td>NaN</td>\n",
              "      <td>NaN</td>\n",
              "    </tr>\n",
              "    <tr>\n",
              "      <th>2</th>\n",
              "      <td>1603474658422099978</td>\n",
              "      <td>RT @mane3sha : things that will end up making ...</td>\n",
              "      <td>/Rah•kem/(ism)</td>\n",
              "      <td>OldmanRakim</td>\n",
              "      <td>2022-12-15T19:38:44.000Z</td>\n",
              "      <td>Thu Dec 15 19:38:44 +0000 2022</td>\n",
              "      <td>0</td>\n",
              "      <td>0</td>\n",
              "      <td>en</td>\n",
              "      <td>&lt;a href=\"http://twitter.com/download/iphone\" r...</td>\n",
              "      <td>Retweet</td>\n",
              "      <td>NaN</td>\n",
              "      <td>0</td>\n",
              "      <td>0</td>\n",
              "      <td>NaN</td>\n",
              "      <td>NaN</td>\n",
              "      <td>NaN</td>\n",
              "      <td>NaN</td>\n",
              "      <td>NaN</td>\n",
              "    </tr>\n",
              "  </tbody>\n",
              "</table>\n",
              "</div>\n",
              "      <button class=\"colab-df-convert\" onclick=\"convertToInteractive('df-9d3f0553-58c7-47ff-af31-adde682a21f2')\"\n",
              "              title=\"Convert this dataframe to an interactive table.\"\n",
              "              style=\"display:none;\">\n",
              "        \n",
              "  <svg xmlns=\"http://www.w3.org/2000/svg\" height=\"24px\"viewBox=\"0 0 24 24\"\n",
              "       width=\"24px\">\n",
              "    <path d=\"M0 0h24v24H0V0z\" fill=\"none\"/>\n",
              "    <path d=\"M18.56 5.44l.94 2.06.94-2.06 2.06-.94-2.06-.94-.94-2.06-.94 2.06-2.06.94zm-11 1L8.5 8.5l.94-2.06 2.06-.94-2.06-.94L8.5 2.5l-.94 2.06-2.06.94zm10 10l.94 2.06.94-2.06 2.06-.94-2.06-.94-.94-2.06-.94 2.06-2.06.94z\"/><path d=\"M17.41 7.96l-1.37-1.37c-.4-.4-.92-.59-1.43-.59-.52 0-1.04.2-1.43.59L10.3 9.45l-7.72 7.72c-.78.78-.78 2.05 0 2.83L4 21.41c.39.39.9.59 1.41.59.51 0 1.02-.2 1.41-.59l7.78-7.78 2.81-2.81c.8-.78.8-2.07 0-2.86zM5.41 20L4 18.59l7.72-7.72 1.47 1.35L5.41 20z\"/>\n",
              "  </svg>\n",
              "      </button>\n",
              "      \n",
              "  <style>\n",
              "    .colab-df-container {\n",
              "      display:flex;\n",
              "      flex-wrap:wrap;\n",
              "      gap: 12px;\n",
              "    }\n",
              "\n",
              "    .colab-df-convert {\n",
              "      background-color: #E8F0FE;\n",
              "      border: none;\n",
              "      border-radius: 50%;\n",
              "      cursor: pointer;\n",
              "      display: none;\n",
              "      fill: #1967D2;\n",
              "      height: 32px;\n",
              "      padding: 0 0 0 0;\n",
              "      width: 32px;\n",
              "    }\n",
              "\n",
              "    .colab-df-convert:hover {\n",
              "      background-color: #E2EBFA;\n",
              "      box-shadow: 0px 1px 2px rgba(60, 64, 67, 0.3), 0px 1px 3px 1px rgba(60, 64, 67, 0.15);\n",
              "      fill: #174EA6;\n",
              "    }\n",
              "\n",
              "    [theme=dark] .colab-df-convert {\n",
              "      background-color: #3B4455;\n",
              "      fill: #D2E3FC;\n",
              "    }\n",
              "\n",
              "    [theme=dark] .colab-df-convert:hover {\n",
              "      background-color: #434B5C;\n",
              "      box-shadow: 0px 1px 3px 1px rgba(0, 0, 0, 0.15);\n",
              "      filter: drop-shadow(0px 1px 2px rgba(0, 0, 0, 0.3));\n",
              "      fill: #FFFFFF;\n",
              "    }\n",
              "  </style>\n",
              "\n",
              "      <script>\n",
              "        const buttonEl =\n",
              "          document.querySelector('#df-9d3f0553-58c7-47ff-af31-adde682a21f2 button.colab-df-convert');\n",
              "        buttonEl.style.display =\n",
              "          google.colab.kernel.accessAllowed ? 'block' : 'none';\n",
              "\n",
              "        async function convertToInteractive(key) {\n",
              "          const element = document.querySelector('#df-9d3f0553-58c7-47ff-af31-adde682a21f2');\n",
              "          const dataTable =\n",
              "            await google.colab.kernel.invokeFunction('convertToInteractive',\n",
              "                                                     [key], {});\n",
              "          if (!dataTable) return;\n",
              "\n",
              "          const docLinkHtml = 'Like what you see? Visit the ' +\n",
              "            '<a target=\"_blank\" href=https://colab.research.google.com/notebooks/data_table.ipynb>data table notebook</a>'\n",
              "            + ' to learn more about interactive tables.';\n",
              "          element.innerHTML = '';\n",
              "          dataTable['output_type'] = 'display_data';\n",
              "          await google.colab.output.renderOutput(dataTable, element);\n",
              "          const docLink = document.createElement('div');\n",
              "          docLink.innerHTML = docLinkHtml;\n",
              "          element.appendChild(docLink);\n",
              "        }\n",
              "      </script>\n",
              "    </div>\n",
              "  </div>\n",
              "  "
            ]
          },
          "metadata": {},
          "execution_count": 29
        }
      ]
    },
    {
      "cell_type": "code",
      "source": [
        "df = df.drop(['Tweet Id', 'UTC', 'Retweets', 'Name', 'Screen Name' , 'Favorites', 'Client', 'Hashtags', 'Mentions', 'Media URLs', 'Unnamed: 16', 'Unnamed: 17', 'Unnamed: 18' ], axis=1)"
      ],
      "metadata": {
        "id": "bLgoxQn_fmmH"
      },
      "execution_count": 80,
      "outputs": []
    },
    {
      "cell_type": "code",
      "source": [
        "df.head(3)"
      ],
      "metadata": {
        "colab": {
          "base_uri": "https://localhost:8080/",
          "height": 143
        },
        "id": "NlQ3FgP9f2ve",
        "outputId": "7f01d413-7e82-4cde-f71b-0b5fe7ab016b"
      },
      "execution_count": 81,
      "outputs": [
        {
          "output_type": "execute_result",
          "data": {
            "text/plain": [
              "                                                Text  \\\n",
              "0  Acupuncture for Dogs and Cats (A Pocket Atlas)...   \n",
              "1  RT @mane3sha : things that will end up making ...   \n",
              "2  RT @mane3sha : things that will end up making ...   \n",
              "\n",
              "                       Created At Language Tweet Type  \\\n",
              "0  Thu Dec 15 19:43:54 +0000 2022       en      Tweet   \n",
              "1  Thu Dec 15 19:39:46 +0000 2022       en    Retweet   \n",
              "2  Thu Dec 15 19:38:44 +0000 2022       en    Retweet   \n",
              "\n",
              "                                                URLs Media Type  \n",
              "0  https://www.amazon.com/dp/3131546913?tag=lance...      photo  \n",
              "1                                                NaN        NaN  \n",
              "2                                                NaN        NaN  "
            ],
            "text/html": [
              "\n",
              "  <div id=\"df-b4fb56d2-6683-44ce-9cae-6fecd932909a\">\n",
              "    <div class=\"colab-df-container\">\n",
              "      <div>\n",
              "<style scoped>\n",
              "    .dataframe tbody tr th:only-of-type {\n",
              "        vertical-align: middle;\n",
              "    }\n",
              "\n",
              "    .dataframe tbody tr th {\n",
              "        vertical-align: top;\n",
              "    }\n",
              "\n",
              "    .dataframe thead th {\n",
              "        text-align: right;\n",
              "    }\n",
              "</style>\n",
              "<table border=\"1\" class=\"dataframe\">\n",
              "  <thead>\n",
              "    <tr style=\"text-align: right;\">\n",
              "      <th></th>\n",
              "      <th>Text</th>\n",
              "      <th>Created At</th>\n",
              "      <th>Language</th>\n",
              "      <th>Tweet Type</th>\n",
              "      <th>URLs</th>\n",
              "      <th>Media Type</th>\n",
              "    </tr>\n",
              "  </thead>\n",
              "  <tbody>\n",
              "    <tr>\n",
              "      <th>0</th>\n",
              "      <td>Acupuncture for Dogs and Cats (A Pocket Atlas)...</td>\n",
              "      <td>Thu Dec 15 19:43:54 +0000 2022</td>\n",
              "      <td>en</td>\n",
              "      <td>Tweet</td>\n",
              "      <td>https://www.amazon.com/dp/3131546913?tag=lance...</td>\n",
              "      <td>photo</td>\n",
              "    </tr>\n",
              "    <tr>\n",
              "      <th>1</th>\n",
              "      <td>RT @mane3sha : things that will end up making ...</td>\n",
              "      <td>Thu Dec 15 19:39:46 +0000 2022</td>\n",
              "      <td>en</td>\n",
              "      <td>Retweet</td>\n",
              "      <td>NaN</td>\n",
              "      <td>NaN</td>\n",
              "    </tr>\n",
              "    <tr>\n",
              "      <th>2</th>\n",
              "      <td>RT @mane3sha : things that will end up making ...</td>\n",
              "      <td>Thu Dec 15 19:38:44 +0000 2022</td>\n",
              "      <td>en</td>\n",
              "      <td>Retweet</td>\n",
              "      <td>NaN</td>\n",
              "      <td>NaN</td>\n",
              "    </tr>\n",
              "  </tbody>\n",
              "</table>\n",
              "</div>\n",
              "      <button class=\"colab-df-convert\" onclick=\"convertToInteractive('df-b4fb56d2-6683-44ce-9cae-6fecd932909a')\"\n",
              "              title=\"Convert this dataframe to an interactive table.\"\n",
              "              style=\"display:none;\">\n",
              "        \n",
              "  <svg xmlns=\"http://www.w3.org/2000/svg\" height=\"24px\"viewBox=\"0 0 24 24\"\n",
              "       width=\"24px\">\n",
              "    <path d=\"M0 0h24v24H0V0z\" fill=\"none\"/>\n",
              "    <path d=\"M18.56 5.44l.94 2.06.94-2.06 2.06-.94-2.06-.94-.94-2.06-.94 2.06-2.06.94zm-11 1L8.5 8.5l.94-2.06 2.06-.94-2.06-.94L8.5 2.5l-.94 2.06-2.06.94zm10 10l.94 2.06.94-2.06 2.06-.94-2.06-.94-.94-2.06-.94 2.06-2.06.94z\"/><path d=\"M17.41 7.96l-1.37-1.37c-.4-.4-.92-.59-1.43-.59-.52 0-1.04.2-1.43.59L10.3 9.45l-7.72 7.72c-.78.78-.78 2.05 0 2.83L4 21.41c.39.39.9.59 1.41.59.51 0 1.02-.2 1.41-.59l7.78-7.78 2.81-2.81c.8-.78.8-2.07 0-2.86zM5.41 20L4 18.59l7.72-7.72 1.47 1.35L5.41 20z\"/>\n",
              "  </svg>\n",
              "      </button>\n",
              "      \n",
              "  <style>\n",
              "    .colab-df-container {\n",
              "      display:flex;\n",
              "      flex-wrap:wrap;\n",
              "      gap: 12px;\n",
              "    }\n",
              "\n",
              "    .colab-df-convert {\n",
              "      background-color: #E8F0FE;\n",
              "      border: none;\n",
              "      border-radius: 50%;\n",
              "      cursor: pointer;\n",
              "      display: none;\n",
              "      fill: #1967D2;\n",
              "      height: 32px;\n",
              "      padding: 0 0 0 0;\n",
              "      width: 32px;\n",
              "    }\n",
              "\n",
              "    .colab-df-convert:hover {\n",
              "      background-color: #E2EBFA;\n",
              "      box-shadow: 0px 1px 2px rgba(60, 64, 67, 0.3), 0px 1px 3px 1px rgba(60, 64, 67, 0.15);\n",
              "      fill: #174EA6;\n",
              "    }\n",
              "\n",
              "    [theme=dark] .colab-df-convert {\n",
              "      background-color: #3B4455;\n",
              "      fill: #D2E3FC;\n",
              "    }\n",
              "\n",
              "    [theme=dark] .colab-df-convert:hover {\n",
              "      background-color: #434B5C;\n",
              "      box-shadow: 0px 1px 3px 1px rgba(0, 0, 0, 0.15);\n",
              "      filter: drop-shadow(0px 1px 2px rgba(0, 0, 0, 0.3));\n",
              "      fill: #FFFFFF;\n",
              "    }\n",
              "  </style>\n",
              "\n",
              "      <script>\n",
              "        const buttonEl =\n",
              "          document.querySelector('#df-b4fb56d2-6683-44ce-9cae-6fecd932909a button.colab-df-convert');\n",
              "        buttonEl.style.display =\n",
              "          google.colab.kernel.accessAllowed ? 'block' : 'none';\n",
              "\n",
              "        async function convertToInteractive(key) {\n",
              "          const element = document.querySelector('#df-b4fb56d2-6683-44ce-9cae-6fecd932909a');\n",
              "          const dataTable =\n",
              "            await google.colab.kernel.invokeFunction('convertToInteractive',\n",
              "                                                     [key], {});\n",
              "          if (!dataTable) return;\n",
              "\n",
              "          const docLinkHtml = 'Like what you see? Visit the ' +\n",
              "            '<a target=\"_blank\" href=https://colab.research.google.com/notebooks/data_table.ipynb>data table notebook</a>'\n",
              "            + ' to learn more about interactive tables.';\n",
              "          element.innerHTML = '';\n",
              "          dataTable['output_type'] = 'display_data';\n",
              "          await google.colab.output.renderOutput(dataTable, element);\n",
              "          const docLink = document.createElement('div');\n",
              "          docLink.innerHTML = docLinkHtml;\n",
              "          element.appendChild(docLink);\n",
              "        }\n",
              "      </script>\n",
              "    </div>\n",
              "  </div>\n",
              "  "
            ]
          },
          "metadata": {},
          "execution_count": 81
        }
      ]
    },
    {
      "cell_type": "code",
      "source": [
        "df = df[df['Language']=='en']\n",
        "df = df[df['Tweet Type']!='Retweet']\n",
        "df = df.drop(['Created At', 'Language', 'URLs'], axis=1)\n",
        "df.set_index(['Age'], inplace = True)"
      ],
      "metadata": {
        "id": "MPDQqNm7g3QJ"
      },
      "execution_count": 84,
      "outputs": []
    },
    {
      "cell_type": "code",
      "source": [
        "df.shape"
      ],
      "metadata": {
        "colab": {
          "base_uri": "https://localhost:8080/"
        },
        "id": "-GUQMI7oB81H",
        "outputId": "30df13af-0b28-484b-bd1f-e197cacb919c"
      },
      "execution_count": 86,
      "outputs": [
        {
          "output_type": "execute_result",
          "data": {
            "text/plain": [
              "(2881, 6)"
            ]
          },
          "metadata": {},
          "execution_count": 86
        }
      ]
    },
    {
      "cell_type": "code",
      "source": [],
      "metadata": {
        "id": "l_GkzXjAiPco"
      },
      "execution_count": 87,
      "outputs": []
    },
    {
      "cell_type": "code",
      "source": [
        "import emoji \n",
        "\n",
        "def clean1(tweet):\n",
        "  txt = re.sub(r\"https?://\\S+\", \"\", tweet) # remove hyperlink\n",
        "  txt = demojize(txt)                      # translate emoji\n",
        "  txt = re.sub(\"_\", \" \", txt)\n",
        "  txt = re.sub(\"\\n\", \" \", txt)\n",
        "  txt = re.sub(\":\", \" \", txt)\n",
        "  txt = re.sub(r'@[A-Za-z0-9_]+', '', txt) # remove mention\n",
        "  txt = re.sub(r'#[A-Za-z]+[A-Za-z0-9-_]+', '', txt)\n",
        "  return txt\n",
        "\n",
        "def clean2(tweet):\n",
        "  txt = re.sub(r\"https?://\\S+\", \"\", tweet) #remove hyperlink\n",
        "  txt = re.sub(\"\\n\", \" \", txt)\n",
        "  txt = re.sub(\":\", \" \", txt)\n",
        "  txt = re.sub(r\"&amp\", \" \", txt)\n",
        "  txt = re.sub(r'@[A-Za-z0-9_]+[A-Za-z0-9-_]+', '', txt) #remove mention\n",
        "  txt = re.sub(r'#[A-Za-z]+[A-Za-z0-9-_]+', '', txt)\n",
        "  txt = re.sub(\"_\", \" \", txt)\n",
        "  txt = emoji.replace_emoji(txt, replace='')\n",
        "  return txt\n",
        "\n",
        "df.Text = df.Text.apply(clean2)\n",
        "\n",
        "df.head(2)"
      ],
      "metadata": {
        "colab": {
          "base_uri": "https://localhost:8080/",
          "height": 112
        },
        "id": "2g8tfyoli82B",
        "outputId": "57f5c1e1-8def-4774-8b4f-16c9701258bd"
      },
      "execution_count": 88,
      "outputs": [
        {
          "output_type": "execute_result",
          "data": {
            "text/plain": [
              "                                                 Text Tweet Type Media Type\n",
              "0   Acupuncture for Dogs and Cats (A Pocket Atlas)...      Tweet      photo\n",
              "12   Doing well. It's been a week of self-care. (H...      Reply        NaN"
            ],
            "text/html": [
              "\n",
              "  <div id=\"df-2732d115-21e2-4572-a7d9-3d8856789901\">\n",
              "    <div class=\"colab-df-container\">\n",
              "      <div>\n",
              "<style scoped>\n",
              "    .dataframe tbody tr th:only-of-type {\n",
              "        vertical-align: middle;\n",
              "    }\n",
              "\n",
              "    .dataframe tbody tr th {\n",
              "        vertical-align: top;\n",
              "    }\n",
              "\n",
              "    .dataframe thead th {\n",
              "        text-align: right;\n",
              "    }\n",
              "</style>\n",
              "<table border=\"1\" class=\"dataframe\">\n",
              "  <thead>\n",
              "    <tr style=\"text-align: right;\">\n",
              "      <th></th>\n",
              "      <th>Text</th>\n",
              "      <th>Tweet Type</th>\n",
              "      <th>Media Type</th>\n",
              "    </tr>\n",
              "  </thead>\n",
              "  <tbody>\n",
              "    <tr>\n",
              "      <th>0</th>\n",
              "      <td>Acupuncture for Dogs and Cats (A Pocket Atlas)...</td>\n",
              "      <td>Tweet</td>\n",
              "      <td>photo</td>\n",
              "    </tr>\n",
              "    <tr>\n",
              "      <th>12</th>\n",
              "      <td>Doing well. It's been a week of self-care. (H...</td>\n",
              "      <td>Reply</td>\n",
              "      <td>NaN</td>\n",
              "    </tr>\n",
              "  </tbody>\n",
              "</table>\n",
              "</div>\n",
              "      <button class=\"colab-df-convert\" onclick=\"convertToInteractive('df-2732d115-21e2-4572-a7d9-3d8856789901')\"\n",
              "              title=\"Convert this dataframe to an interactive table.\"\n",
              "              style=\"display:none;\">\n",
              "        \n",
              "  <svg xmlns=\"http://www.w3.org/2000/svg\" height=\"24px\"viewBox=\"0 0 24 24\"\n",
              "       width=\"24px\">\n",
              "    <path d=\"M0 0h24v24H0V0z\" fill=\"none\"/>\n",
              "    <path d=\"M18.56 5.44l.94 2.06.94-2.06 2.06-.94-2.06-.94-.94-2.06-.94 2.06-2.06.94zm-11 1L8.5 8.5l.94-2.06 2.06-.94-2.06-.94L8.5 2.5l-.94 2.06-2.06.94zm10 10l.94 2.06.94-2.06 2.06-.94-2.06-.94-.94-2.06-.94 2.06-2.06.94z\"/><path d=\"M17.41 7.96l-1.37-1.37c-.4-.4-.92-.59-1.43-.59-.52 0-1.04.2-1.43.59L10.3 9.45l-7.72 7.72c-.78.78-.78 2.05 0 2.83L4 21.41c.39.39.9.59 1.41.59.51 0 1.02-.2 1.41-.59l7.78-7.78 2.81-2.81c.8-.78.8-2.07 0-2.86zM5.41 20L4 18.59l7.72-7.72 1.47 1.35L5.41 20z\"/>\n",
              "  </svg>\n",
              "      </button>\n",
              "      \n",
              "  <style>\n",
              "    .colab-df-container {\n",
              "      display:flex;\n",
              "      flex-wrap:wrap;\n",
              "      gap: 12px;\n",
              "    }\n",
              "\n",
              "    .colab-df-convert {\n",
              "      background-color: #E8F0FE;\n",
              "      border: none;\n",
              "      border-radius: 50%;\n",
              "      cursor: pointer;\n",
              "      display: none;\n",
              "      fill: #1967D2;\n",
              "      height: 32px;\n",
              "      padding: 0 0 0 0;\n",
              "      width: 32px;\n",
              "    }\n",
              "\n",
              "    .colab-df-convert:hover {\n",
              "      background-color: #E2EBFA;\n",
              "      box-shadow: 0px 1px 2px rgba(60, 64, 67, 0.3), 0px 1px 3px 1px rgba(60, 64, 67, 0.15);\n",
              "      fill: #174EA6;\n",
              "    }\n",
              "\n",
              "    [theme=dark] .colab-df-convert {\n",
              "      background-color: #3B4455;\n",
              "      fill: #D2E3FC;\n",
              "    }\n",
              "\n",
              "    [theme=dark] .colab-df-convert:hover {\n",
              "      background-color: #434B5C;\n",
              "      box-shadow: 0px 1px 3px 1px rgba(0, 0, 0, 0.15);\n",
              "      filter: drop-shadow(0px 1px 2px rgba(0, 0, 0, 0.3));\n",
              "      fill: #FFFFFF;\n",
              "    }\n",
              "  </style>\n",
              "\n",
              "      <script>\n",
              "        const buttonEl =\n",
              "          document.querySelector('#df-2732d115-21e2-4572-a7d9-3d8856789901 button.colab-df-convert');\n",
              "        buttonEl.style.display =\n",
              "          google.colab.kernel.accessAllowed ? 'block' : 'none';\n",
              "\n",
              "        async function convertToInteractive(key) {\n",
              "          const element = document.querySelector('#df-2732d115-21e2-4572-a7d9-3d8856789901');\n",
              "          const dataTable =\n",
              "            await google.colab.kernel.invokeFunction('convertToInteractive',\n",
              "                                                     [key], {});\n",
              "          if (!dataTable) return;\n",
              "\n",
              "          const docLinkHtml = 'Like what you see? Visit the ' +\n",
              "            '<a target=\"_blank\" href=https://colab.research.google.com/notebooks/data_table.ipynb>data table notebook</a>'\n",
              "            + ' to learn more about interactive tables.';\n",
              "          element.innerHTML = '';\n",
              "          dataTable['output_type'] = 'display_data';\n",
              "          await google.colab.output.renderOutput(dataTable, element);\n",
              "          const docLink = document.createElement('div');\n",
              "          docLink.innerHTML = docLinkHtml;\n",
              "          element.appendChild(docLink);\n",
              "        }\n",
              "      </script>\n",
              "    </div>\n",
              "  </div>\n",
              "  "
            ]
          },
          "metadata": {},
          "execution_count": 88
        }
      ]
    },
    {
      "cell_type": "code",
      "source": [
        "PRE_TRAINED_MODEL_NAME = 'bert-base-cased'\n",
        "tokenizer = BertTokenizer.from_pretrained(PRE_TRAINED_MODEL_NAME)\n",
        "\n",
        "token_lens = []\n",
        "\n",
        "for txt in df.Text:\n",
        "  tokens = tokenizer.encode(txt, max_length=1000)\n",
        "  token_lens.append(len(tokens))"
      ],
      "metadata": {
        "colab": {
          "base_uri": "https://localhost:8080/"
        },
        "id": "fkS19hgBldsn",
        "outputId": "8e7eb979-dd03-4654-e6ba-9a8b73b9855f"
      },
      "execution_count": 89,
      "outputs": [
        {
          "output_type": "stream",
          "name": "stderr",
          "text": [
            "Truncation was not explicitly activated but `max_length` is provided a specific value, please use `truncation=True` to explicitly truncate examples to max length. Defaulting to 'longest_first' truncation strategy. If you encode pairs of sequences (GLUE-style) with the tokenizer you can select this strategy more precisely by providing a specific strategy to `truncation`.\n"
          ]
        }
      ]
    },
    {
      "cell_type": "code",
      "source": [
        "sns.distplot(token_lens)\n",
        "plt.xlim([0, 200]);\n",
        "plt.xlabel('Token count');"
      ],
      "metadata": {
        "colab": {
          "base_uri": "https://localhost:8080/",
          "height": 562
        },
        "id": "9hvxnpi6ljH-",
        "outputId": "d361240d-d28b-48b6-e670-fdbdff5e67ea"
      },
      "execution_count": 90,
      "outputs": [
        {
          "output_type": "stream",
          "name": "stderr",
          "text": [
            "/usr/local/lib/python3.8/dist-packages/seaborn/distributions.py:2619: FutureWarning: `distplot` is a deprecated function and will be removed in a future version. Please adapt your code to use either `displot` (a figure-level function with similar flexibility) or `histplot` (an axes-level function for histograms).\n",
            "  warnings.warn(msg, FutureWarning)\n"
          ]
        },
        {
          "output_type": "display_data",
          "data": {
            "text/plain": [
              "<Figure size 864x576 with 1 Axes>"
            ],
            "image/png": "[encoded data removed]"
          },
          "metadata": {
            "image/png": {
              "width": 770,
              "height": 489
            }
          }
        }
      ]
    },
    {
      "cell_type": "code",
      "source": [
        "from transformers import BertConfig, BertModel\n",
        "import torch.nn as nn\n",
        "from torch.optim import AdamW"
      ],
      "metadata": {
        "id": "HReDzK6il8Fm"
      },
      "execution_count": 91,
      "outputs": []
    },
    {
      "cell_type": "code",
      "source": [
        "PRE_TRAINED_MODEL_NAME = 'bert-large-cased'   # 'bert-base-cased'\n",
        "\n",
        "#This is the dict of trained model name\n",
        "#PRE_TRAINED_DICT_NAME = 'checkpoints/' + PRE_TRAINED_MODEL_NAME + '/pretrain_model_dict.bin'\n",
        "\n",
        "tokenizer = BertTokenizer.from_pretrained(PRE_TRAINED_MODEL_NAME)"
      ],
      "metadata": {
        "colab": {
          "base_uri": "https://localhost:8080/",
          "height": 113,
          "referenced_widgets": [
            "edf7a4e31dcc44029a0182540d837f20",
            "7fad5b7e55d94251a1f8dd098aad94ff",
            "1d1c650228d14d1ca04b8e7a720eb375",
            "b8c8dec10428467e87e1b10cfe8b77eb",
            "f9193a0f41e042ecbfb7ff550ce93351",
            "df86c240ce1a4e7eb2a356ec2dd48c1f",
            "ff3a9f170d86431ca6cb5fdd06b86074",
            "f2d16aa697fb4cdf96ebb18b099e2723",
            "5172cad0d74449b79f76db48ce3778e0",
            "2f3714b4aeca409aacdc09d61f475b69",
            "c9aa0f66f635438b8e9cd2a32a62968a",
            "50a52dbe96924de28701c6636d3b9184",
            "914dd835bf5f4632ae1223b9bfe90f61",
            "100539f7b9e1454e87531a8a0332cb75",
            "fc57df6f45684f959c88c0adb453cf74",
            "4588dc17aba645dbad70f01604adf959",
            "209e7529118246ae9f1c8ee9c0645c36",
            "78f32363b4144ac1a633b5297d421463",
            "7d870747a9b54ecbba9e6d3580c410ff",
            "1e85820d030a494396c922081dc4b64c",
            "4cf9ab53f4d840218e8ebb6fe0965a61",
            "8f08c53f80da4f5ea2e4a3c759500141",
            "b5f63fc5411d45c9aec116b2021bb6df",
            "9dc171c004af4b02a3469aef7f266ae3",
            "2f65a7b07b414e80ad13c7be4aeceeb3",
            "bc28f91767794855a0c5dfe7d5b5be35",
            "1344c68326494ddf8f4d406d5d433be6",
            "8243fd03cfc14059985ed3ce4f3330ee",
            "c79ca73513c440169b9141f71cacfb7f",
            "463f5eafce16442f8d61550c7fdf50c3",
            "fd568eb8333a4a0b99834bf8fb5e3068",
            "47597fb507884d3c93ef1d1f2930041b",
            "26fa18b180f04994856ddc05f55be918"
          ]
        },
        "id": "LSHk5ZrKnCdF",
        "outputId": "05314207-5915-4589-a2fb-1894bc8e27ac"
      },
      "execution_count": 65,
      "outputs": [
        {
          "output_type": "display_data",
          "data": {
            "text/plain": [
              "Downloading:   0%|          | 0.00/213k [00:00<?, ?B/s]"
            ],
            "application/vnd.jupyter.widget-view+json": {
              "version_major": 2,
              "version_minor": 0,
              "model_id": "edf7a4e31dcc44029a0182540d837f20"
            }
          },
          "metadata": {}
        },
        {
          "output_type": "display_data",
          "data": {
            "text/plain": [
              "Downloading:   0%|          | 0.00/29.0 [00:00<?, ?B/s]"
            ],
            "application/vnd.jupyter.widget-view+json": {
              "version_major": 2,
              "version_minor": 0,
              "model_id": "50a52dbe96924de28701c6636d3b9184"
            }
          },
          "metadata": {}
        },
        {
          "output_type": "display_data",
          "data": {
            "text/plain": [
              "Downloading:   0%|          | 0.00/762 [00:00<?, ?B/s]"
            ],
            "application/vnd.jupyter.widget-view+json": {
              "version_major": 2,
              "version_minor": 0,
              "model_id": "b5f63fc5411d45c9aec116b2021bb6df"
            }
          },
          "metadata": {}
        }
      ]
    },
    {
      "cell_type": "code",
      "source": [
        "MAX_LEN = 160\n",
        "NUM_SENTIMENT = 3\n",
        "\n",
        "class SentimentClassifier(nn.Module):\n",
        "\n",
        "  def __init__(self, n_classes):\n",
        "    super(SentimentClassifier, self).__init__()\n",
        "    self.bert = BertModel.from_pretrained(PRE_TRAINED_MODEL_NAME)\n",
        "    self.drop = nn.Dropout(p=0.3)\n",
        "    self.out = nn.Linear(self.bert.config.hidden_size, n_classes)\n",
        "  \n",
        "  def forward(self, input_ids, attention_mask):\n",
        "    _, pooled_output = self.bert(\n",
        "      input_ids=input_ids,\n",
        "      attention_mask=attention_mask\n",
        "    ).to_tuple()\n",
        "    output = self.drop(pooled_output)\n",
        "    return self.out(output)\n",
        "\n",
        "model = SentimentClassifier(NUM_SENTIMENT)\n",
        "model.load_state_dict(torch.load('/content/drive/MyDrive/fine_tune_model_dict_shuffle_llr_gen_entire.bin',  map_location=torch.device('cpu')))\n",
        "\n",
        "device = torch.device(\"cuda:0\" if torch.cuda.is_available() else \"cpu\")\n",
        "model = model.to(device)"
      ],
      "metadata": {
        "colab": {
          "base_uri": "https://localhost:8080/",
          "height": 123,
          "referenced_widgets": [
            "bb0be57ecbe64dc3a5f1b437bb9ae485",
            "8f2fe332dc8b4150a19117f2d1896af3",
            "686ca97e2cf3427a8bf0572bb726e3cf",
            "943b7383dde445d78da94f7a98c4da2a",
            "193e41b7b6874cd79827dd5da3f5e6a2",
            "3a00654d2b4d44708352b36ba2db685b",
            "46ba20e65fe54e50a7a1c62fe8b51694",
            "032df12330de4ae2a706a047f2f077b2",
            "b93cdc15d614401696e4dfe22b3ff6a1",
            "15af8bca26dc4d6398aa9f27bde1ddd7",
            "86131b9e012c44e5886923ee681229e4"
          ]
        },
        "id": "7nZS7oS2kS1x",
        "outputId": "c96b6ff9-e113-49c4-99e8-2f612bcdd46e"
      },
      "execution_count": 66,
      "outputs": [
        {
          "output_type": "display_data",
          "data": {
            "text/plain": [
              "Downloading:   0%|          | 0.00/1.34G [00:00<?, ?B/s]"
            ],
            "application/vnd.jupyter.widget-view+json": {
              "version_major": 2,
              "version_minor": 0,
              "model_id": "bb0be57ecbe64dc3a5f1b437bb9ae485"
            }
          },
          "metadata": {}
        },
        {
          "output_type": "stream",
          "name": "stderr",
          "text": [
            "Some weights of the model checkpoint at bert-large-cased were not used when initializing BertModel: ['cls.predictions.bias', 'cls.predictions.transform.LayerNorm.weight', 'cls.seq_relationship.bias', 'cls.seq_relationship.weight', 'cls.predictions.decoder.weight', 'cls.predictions.transform.LayerNorm.bias', 'cls.predictions.transform.dense.bias', 'cls.predictions.transform.dense.weight']\n",
            "- This IS expected if you are initializing BertModel from the checkpoint of a model trained on another task or with another architecture (e.g. initializing a BertForSequenceClassification model from a BertForPreTraining model).\n",
            "- This IS NOT expected if you are initializing BertModel from the checkpoint of a model that you expect to be exactly identical (initializing a BertForSequenceClassification model from a BertForSequenceClassification model).\n"
          ]
        }
      ]
    },
    {
      "cell_type": "code",
      "source": [
        "def predict(text):\n",
        "\n",
        "  encoded_review = tokenizer.encode_plus(\n",
        "    text,\n",
        "    max_length=MAX_LEN,\n",
        "    add_special_tokens=True,\n",
        "    return_token_type_ids=False,\n",
        "    pad_to_max_length=True,\n",
        "    return_attention_mask=True,\n",
        "    return_tensors='pt',\n",
        "  )\n",
        "  input_ids = encoded_review['input_ids'].to(device)\n",
        "  attention_mask = encoded_review['attention_mask'].to(device)\n",
        "\n",
        "  output = model(input_ids, attention_mask)\n",
        "  _, prediction = torch.max(output, dim=1)\n",
        "\n",
        "\n",
        "  return prediction.numpy()[0]"
      ],
      "metadata": {
        "id": "MfJvAHxd_bzV"
      },
      "execution_count": 131,
      "outputs": []
    },
    {
      "cell_type": "code",
      "source": [
        "class_names = ['positive', 'neutral', 'negative']"
      ],
      "metadata": {
        "id": "KxrvKW4mAVsf"
      },
      "execution_count": 124,
      "outputs": []
    },
    {
      "cell_type": "code",
      "source": [
        "for i in range(len(df.Text)):\n",
        "  if(df['Label'][i] == ''):\n",
        "    if(i%20==0): \n",
        "      print(i)\n",
        "    df['Label'][i] = predict(df.Text[i])"
      ],
      "metadata": {
        "colab": {
          "base_uri": "https://localhost:8080/"
        },
        "id": "B1U_nCeIAWM-",
        "outputId": "67bbf4f0-ef20-40a5-f8b6-7623595f424c"
      },
      "execution_count": 151,
      "outputs": [
        {
          "output_type": "stream",
          "name": "stderr",
          "text": [
            "/usr/local/lib/python3.8/dist-packages/transformers/tokenization_utils_base.py:2336: FutureWarning: The `pad_to_max_length` argument is deprecated and will be removed in a future version, use `padding=True` or `padding='longest'` to pad to the longest sequence in the batch, or use `padding='max_length'` to pad to a max length. In this case, you can give a specific length with `max_length` (e.g. `max_length=45`) or leave max_length to None to pad to the maximal input size of the model (e.g. 512 for Bert).\n",
            "  warnings.warn(\n"
          ]
        },
        {
          "output_type": "stream",
          "name": "stdout",
          "text": [
            "1700\n",
            "1720\n",
            "1740\n",
            "1760\n",
            "1780\n",
            "1800\n",
            "1820\n",
            "1840\n",
            "1860\n",
            "1880\n",
            "1900\n",
            "1920\n",
            "1940\n",
            "1960\n",
            "1980\n",
            "2000\n",
            "2020\n",
            "2040\n",
            "2060\n",
            "2080\n",
            "2100\n",
            "2120\n",
            "2140\n",
            "2160\n",
            "2180\n",
            "2200\n",
            "2220\n",
            "2240\n",
            "2260\n",
            "2280\n",
            "2300\n",
            "2320\n",
            "2340\n",
            "2360\n",
            "2380\n",
            "2400\n",
            "2420\n",
            "2440\n",
            "2460\n",
            "2480\n",
            "2500\n",
            "2520\n",
            "2540\n",
            "2560\n",
            "2580\n",
            "2600\n",
            "2620\n",
            "2640\n",
            "2660\n",
            "2680\n",
            "2700\n",
            "2720\n",
            "2740\n",
            "2760\n",
            "2780\n",
            "2800\n",
            "2820\n",
            "2840\n",
            "2860\n",
            "2880\n"
          ]
        }
      ]
    },
    {
      "cell_type": "code",
      "source": [
        "df.head(10)"
      ],
      "metadata": {
        "colab": {
          "base_uri": "https://localhost:8080/",
          "height": 363
        },
        "id": "X7MCE1lbTDmT",
        "outputId": "d3117fcd-c316-4361-e772-596c35f21d7b"
      },
      "execution_count": 152,
      "outputs": [
        {
          "output_type": "execute_result",
          "data": {
            "text/plain": [
              "                                                Text Tweet Type Media Type  \\\n",
              "0  Acupuncture for Dogs and Cats (A Pocket Atlas)...      Tweet      photo   \n",
              "1   Doing well. It's been a week of self-care. (H...      Reply        NaN   \n",
              "2  This woman I work with is the reason why I can...      Tweet        NaN   \n",
              "3  Acupuncture in the Treatment of Children (3rd ...      Tweet      photo   \n",
              "4          I’ve never tried acupuncture does it work      Reply        NaN   \n",
              "5   treatments are more effective when you have t...      Tweet        NaN   \n",
              "6           Everyday acupuncture feels like too much      Reply        NaN   \n",
              "7      “Why Do I Have To Get   Treatment So Often?”       Tweet        NaN   \n",
              "8  Mariah Carey Credits Daily  With Helping Her G...      Tweet        NaN   \n",
              "9  Planning my favorite kind of Friday night tomo...      Tweet        NaN   \n",
              "\n",
              "  Label  \n",
              "0     0  \n",
              "1     0  \n",
              "2     2  \n",
              "3     1  \n",
              "4     0  \n",
              "5     0  \n",
              "6     2  \n",
              "7     1  \n",
              "8     0  \n",
              "9     1  "
            ],
            "text/html": [
              "\n",
              "  <div id=\"df-ea843745-c789-44d7-96d3-d0e6677cb1f3\">\n",
              "    <div class=\"colab-df-container\">\n",
              "      <div>\n",
              "<style scoped>\n",
              "    .dataframe tbody tr th:only-of-type {\n",
              "        vertical-align: middle;\n",
              "    }\n",
              "\n",
              "    .dataframe tbody tr th {\n",
              "        vertical-align: top;\n",
              "    }\n",
              "\n",
              "    .dataframe thead th {\n",
              "        text-align: right;\n",
              "    }\n",
              "</style>\n",
              "<table border=\"1\" class=\"dataframe\">\n",
              "  <thead>\n",
              "    <tr style=\"text-align: right;\">\n",
              "      <th></th>\n",
              "      <th>Text</th>\n",
              "      <th>Tweet Type</th>\n",
              "      <th>Media Type</th>\n",
              "      <th>Label</th>\n",
              "    </tr>\n",
              "  </thead>\n",
              "  <tbody>\n",
              "    <tr>\n",
              "      <th>0</th>\n",
              "      <td>Acupuncture for Dogs and Cats (A Pocket Atlas)...</td>\n",
              "      <td>Tweet</td>\n",
              "      <td>photo</td>\n",
              "      <td>0</td>\n",
              "    </tr>\n",
              "    <tr>\n",
              "      <th>1</th>\n",
              "      <td>Doing well. It's been a week of self-care. (H...</td>\n",
              "      <td>Reply</td>\n",
              "      <td>NaN</td>\n",
              "      <td>0</td>\n",
              "    </tr>\n",
              "    <tr>\n",
              "      <th>2</th>\n",
              "      <td>This woman I work with is the reason why I can...</td>\n",
              "      <td>Tweet</td>\n",
              "      <td>NaN</td>\n",
              "      <td>2</td>\n",
              "    </tr>\n",
              "    <tr>\n",
              "      <th>3</th>\n",
              "      <td>Acupuncture in the Treatment of Children (3rd ...</td>\n",
              "      <td>Tweet</td>\n",
              "      <td>photo</td>\n",
              "      <td>1</td>\n",
              "    </tr>\n",
              "    <tr>\n",
              "      <th>4</th>\n",
              "      <td>I’ve never tried acupuncture does it work</td>\n",
              "      <td>Reply</td>\n",
              "      <td>NaN</td>\n",
              "      <td>0</td>\n",
              "    </tr>\n",
              "    <tr>\n",
              "      <th>5</th>\n",
              "      <td>treatments are more effective when you have t...</td>\n",
              "      <td>Tweet</td>\n",
              "      <td>NaN</td>\n",
              "      <td>0</td>\n",
              "    </tr>\n",
              "    <tr>\n",
              "      <th>6</th>\n",
              "      <td>Everyday acupuncture feels like too much</td>\n",
              "      <td>Reply</td>\n",
              "      <td>NaN</td>\n",
              "      <td>2</td>\n",
              "    </tr>\n",
              "    <tr>\n",
              "      <th>7</th>\n",
              "      <td>“Why Do I Have To Get   Treatment So Often?”</td>\n",
              "      <td>Tweet</td>\n",
              "      <td>NaN</td>\n",
              "      <td>1</td>\n",
              "    </tr>\n",
              "    <tr>\n",
              "      <th>8</th>\n",
              "      <td>Mariah Carey Credits Daily  With Helping Her G...</td>\n",
              "      <td>Tweet</td>\n",
              "      <td>NaN</td>\n",
              "      <td>0</td>\n",
              "    </tr>\n",
              "    <tr>\n",
              "      <th>9</th>\n",
              "      <td>Planning my favorite kind of Friday night tomo...</td>\n",
              "      <td>Tweet</td>\n",
              "      <td>NaN</td>\n",
              "      <td>1</td>\n",
              "    </tr>\n",
              "  </tbody>\n",
              "</table>\n",
              "</div>\n",
              "      <button class=\"colab-df-convert\" onclick=\"convertToInteractive('df-ea843745-c789-44d7-96d3-d0e6677cb1f3')\"\n",
              "              title=\"Convert this dataframe to an interactive table.\"\n",
              "              style=\"display:none;\">\n",
              "        \n",
              "  <svg xmlns=\"http://www.w3.org/2000/svg\" height=\"24px\"viewBox=\"0 0 24 24\"\n",
              "       width=\"24px\">\n",
              "    <path d=\"M0 0h24v24H0V0z\" fill=\"none\"/>\n",
              "    <path d=\"M18.56 5.44l.94 2.06.94-2.06 2.06-.94-2.06-.94-.94-2.06-.94 2.06-2.06.94zm-11 1L8.5 8.5l.94-2.06 2.06-.94-2.06-.94L8.5 2.5l-.94 2.06-2.06.94zm10 10l.94 2.06.94-2.06 2.06-.94-2.06-.94-.94-2.06-.94 2.06-2.06.94z\"/><path d=\"M17.41 7.96l-1.37-1.37c-.4-.4-.92-.59-1.43-.59-.52 0-1.04.2-1.43.59L10.3 9.45l-7.72 7.72c-.78.78-.78 2.05 0 2.83L4 21.41c.39.39.9.59 1.41.59.51 0 1.02-.2 1.41-.59l7.78-7.78 2.81-2.81c.8-.78.8-2.07 0-2.86zM5.41 20L4 18.59l7.72-7.72 1.47 1.35L5.41 20z\"/>\n",
              "  </svg>\n",
              "      </button>\n",
              "      \n",
              "  <style>\n",
              "    .colab-df-container {\n",
              "      display:flex;\n",
              "      flex-wrap:wrap;\n",
              "      gap: 12px;\n",
              "    }\n",
              "\n",
              "    .colab-df-convert {\n",
              "      background-color: #E8F0FE;\n",
              "      border: none;\n",
              "      border-radius: 50%;\n",
              "      cursor: pointer;\n",
              "      display: none;\n",
              "      fill: #1967D2;\n",
              "      height: 32px;\n",
              "      padding: 0 0 0 0;\n",
              "      width: 32px;\n",
              "    }\n",
              "\n",
              "    .colab-df-convert:hover {\n",
              "      background-color: #E2EBFA;\n",
              "      box-shadow: 0px 1px 2px rgba(60, 64, 67, 0.3), 0px 1px 3px 1px rgba(60, 64, 67, 0.15);\n",
              "      fill: #174EA6;\n",
              "    }\n",
              "\n",
              "    [theme=dark] .colab-df-convert {\n",
              "      background-color: #3B4455;\n",
              "      fill: #D2E3FC;\n",
              "    }\n",
              "\n",
              "    [theme=dark] .colab-df-convert:hover {\n",
              "      background-color: #434B5C;\n",
              "      box-shadow: 0px 1px 3px 1px rgba(0, 0, 0, 0.15);\n",
              "      filter: drop-shadow(0px 1px 2px rgba(0, 0, 0, 0.3));\n",
              "      fill: #FFFFFF;\n",
              "    }\n",
              "  </style>\n",
              "\n",
              "      <script>\n",
              "        const buttonEl =\n",
              "          document.querySelector('#df-ea843745-c789-44d7-96d3-d0e6677cb1f3 button.colab-df-convert');\n",
              "        buttonEl.style.display =\n",
              "          google.colab.kernel.accessAllowed ? 'block' : 'none';\n",
              "\n",
              "        async function convertToInteractive(key) {\n",
              "          const element = document.querySelector('#df-ea843745-c789-44d7-96d3-d0e6677cb1f3');\n",
              "          const dataTable =\n",
              "            await google.colab.kernel.invokeFunction('convertToInteractive',\n",
              "                                                     [key], {});\n",
              "          if (!dataTable) return;\n",
              "\n",
              "          const docLinkHtml = 'Like what you see? Visit the ' +\n",
              "            '<a target=\"_blank\" href=https://colab.research.google.com/notebooks/data_table.ipynb>data table notebook</a>'\n",
              "            + ' to learn more about interactive tables.';\n",
              "          element.innerHTML = '';\n",
              "          dataTable['output_type'] = 'display_data';\n",
              "          await google.colab.output.renderOutput(dataTable, element);\n",
              "          const docLink = document.createElement('div');\n",
              "          docLink.innerHTML = docLinkHtml;\n",
              "          element.appendChild(docLink);\n",
              "        }\n",
              "      </script>\n",
              "    </div>\n",
              "  </div>\n",
              "  "
            ]
          },
          "metadata": {},
          "execution_count": 152
        }
      ]
    },
    {
      "cell_type": "code",
      "source": [
        "sns.countplot(df.Label,  palette=['#73b504',\"#ffa500\", '#Fe2c54'])\n",
        "plt.xticks([0, 1, 2],['positive','neutral','negative'])\n",
        "plt.xlabel('Sentiment');\n",
        "plt.title(\"Sentiment Count\")"
      ],
      "metadata": {
        "colab": {
          "base_uri": "https://localhost:8080/",
          "height": 597
        },
        "id": "xqONjUOIef5k",
        "outputId": "fb19fb3c-3808-4d9d-b9eb-746bd337885d"
      },
      "execution_count": 153,
      "outputs": [
        {
          "output_type": "stream",
          "name": "stderr",
          "text": [
            "/usr/local/lib/python3.8/dist-packages/seaborn/_decorators.py:36: FutureWarning: Pass the following variable as a keyword arg: x. From version 0.12, the only valid positional argument will be `data`, and passing other arguments without an explicit keyword will result in an error or misinterpretation.\n",
            "  warnings.warn(\n"
          ]
        },
        {
          "output_type": "execute_result",
          "data": {
            "text/plain": [
              "Text(0.5, 1.0, 'Sentiment Count')"
            ]
          },
          "metadata": {},
          "execution_count": 153
        },
        {
          "output_type": "display_data",
          "data": {
            "text/plain": [
              "<Figure size 864x576 with 1 Axes>"
            ],
            "image/png": "[encoded data removed]"
          },
          "metadata": {
            "image/png": {
              "width": 745,
              "height": 506
            }
          }
        }
      ]
    },
    {
      "cell_type": "code",
      "source": [],
      "metadata": {
        "id": "G7ahA7CtjhRF"
      },
      "execution_count": 186,
      "outputs": []
    },
    {
      "cell_type": "code",
      "source": [
        "# Defining colors for the pie chart\n",
        "val = df['Label'].value_counts()\n",
        "df_all = pd.DataFrame({'Sentiment': ['Positive', 'Neutral', 'Negative'],\n",
        "                          'count': [val[0], val[1], val[2]]})\n",
        "colors = ['#Fe2c54', \"#ffa500\", '#73b504']\n",
        "df_all.groupby(['Sentiment']).sum().plot(kind='pie', subplots=True, figsize=(16,8), autopct='%1.0f%%', colors=colors, startangle=100)\n",
        "plt.ylabel('Sentiment');\n",
        "plt.title(\"Sentiment Distribution of all Tweets and Replies\");"
      ],
      "metadata": {
        "colab": {
          "base_uri": "https://localhost:8080/",
          "height": 483
        },
        "id": "_AEGQLTahBNw",
        "outputId": "ccfb5fb5-54df-4e73-b746-56e4cd96f4db"
      },
      "execution_count": 194,
      "outputs": [
        {
          "output_type": "display_data",
          "data": {
            "text/plain": [
              "<Figure size 1152x576 with 1 Axes>"
            ],
            "image/png": "[encoded data removed]"
          },
          "metadata": {
            "image/png": {
              "width": 491,
              "height": 466
            }
          }
        }
      ]
    },
    {
      "cell_type": "code",
      "source": [
        "df_tweet = df[df['Tweet Type']=='Tweet']"
      ],
      "metadata": {
        "id": "GDCHzhmceqe_"
      },
      "execution_count": 154,
      "outputs": []
    },
    {
      "cell_type": "code",
      "source": [
        "sns.countplot(df_tweet.Label,  palette=['#73b504',\"#ffa500\", '#Fe2c54'])\n",
        "plt.xticks([0, 1, 2],['positive','neutral','negative'])\n",
        "plt.xlabel('Sentiment');\n",
        "plt.title(\"Sentiment Count\")"
      ],
      "metadata": {
        "colab": {
          "base_uri": "https://localhost:8080/",
          "height": 597
        },
        "id": "Jb5wI-NCemNX",
        "outputId": "44973b79-37e5-4dc4-fb1f-37660fc47b87"
      },
      "execution_count": 155,
      "outputs": [
        {
          "output_type": "stream",
          "name": "stderr",
          "text": [
            "/usr/local/lib/python3.8/dist-packages/seaborn/_decorators.py:36: FutureWarning: Pass the following variable as a keyword arg: x. From version 0.12, the only valid positional argument will be `data`, and passing other arguments without an explicit keyword will result in an error or misinterpretation.\n",
            "  warnings.warn(\n"
          ]
        },
        {
          "output_type": "execute_result",
          "data": {
            "text/plain": [
              "Text(0.5, 1.0, 'Sentiment Count')"
            ]
          },
          "metadata": {},
          "execution_count": 155
        },
        {
          "output_type": "display_data",
          "data": {
            "text/plain": [
              "<Figure size 864x576 with 1 Axes>"
            ],
            "image/png": "[encoded data removed]"
          },
          "metadata": {
            "image/png": {
              "width": 745,
              "height": 506
            }
          }
        }
      ]
    },
    {
      "cell_type": "code",
      "source": [
        "val = df_tweet['Label'].value_counts()\n",
        "df_all = pd.DataFrame({'Sentiment': ['Positive', 'Neutral', 'Negative'],\n",
        "                          'count': [val[0], val[1], val[2]]})\n",
        "colors = ['#Fe2c54', \"#ffa500\", '#73b504']\n",
        "df_all.groupby(['Sentiment']).sum().plot(kind='pie', subplots=True, figsize=(16,8), autopct='%1.0f%%', colors=colors, startangle=100)\n",
        "plt.ylabel('Sentiment');\n",
        "plt.title(\"Sentiment Distribution of Original Tweets Only\");"
      ],
      "metadata": {
        "colab": {
          "base_uri": "https://localhost:8080/",
          "height": 483
        },
        "id": "ZyvVPMirfr7W",
        "outputId": "112af875-6af6-4623-d951-20274145f493"
      },
      "execution_count": 196,
      "outputs": [
        {
          "output_type": "display_data",
          "data": {
            "text/plain": [
              "<Figure size 1152x576 with 1 Axes>"
            ],
            "image/png": "[encoded data removed]"
          },
          "metadata": {
            "image/png": {
              "width": 491,
              "height": 466
            }
          }
        }
      ]
    },
    {
      "cell_type": "code",
      "source": [
        "df_reply = df[df['Tweet Type']=='Reply']\n",
        "sns.countplot(df_reply.Label,  palette=['#73b504',\"#ffa500\", '#Fe2c54'])\n",
        "plt.xticks([0, 1, 2],['positive','neutral','negative'])\n",
        "plt.xlabel('Sentiment');\n",
        "plt.title(\"Sentiment Count\")"
      ],
      "metadata": {
        "colab": {
          "base_uri": "https://localhost:8080/",
          "height": 597
        },
        "id": "4DLUGHEIe29q",
        "outputId": "e6f282ef-b6fc-44e3-f6cc-977fe6095961"
      },
      "execution_count": 156,
      "outputs": [
        {
          "output_type": "stream",
          "name": "stderr",
          "text": [
            "/usr/local/lib/python3.8/dist-packages/seaborn/_decorators.py:36: FutureWarning: Pass the following variable as a keyword arg: x. From version 0.12, the only valid positional argument will be `data`, and passing other arguments without an explicit keyword will result in an error or misinterpretation.\n",
            "  warnings.warn(\n"
          ]
        },
        {
          "output_type": "execute_result",
          "data": {
            "text/plain": [
              "Text(0.5, 1.0, 'Sentiment Count')"
            ]
          },
          "metadata": {},
          "execution_count": 156
        },
        {
          "output_type": "display_data",
          "data": {
            "text/plain": [
              "<Figure size 864x576 with 1 Axes>"
            ],
            "image/png": "[encoded data removed]"
          },
          "metadata": {
            "image/png": {
              "width": 736,
              "height": 506
            }
          }
        }
      ]
    },
    {
      "cell_type": "code",
      "source": [
        "val = df_reply['Label'].value_counts()\n",
        "df_all = pd.DataFrame({'Sentiment': ['Positive', 'Neutral', 'Negative'],\n",
        "                          'count': [val[0], val[1], val[2]]})\n",
        "colors = ['#Fe2c54', \"#ffa500\", '#73b504']\n",
        "df_all.groupby(['Sentiment']).sum().plot(kind='pie', subplots=True, figsize=(16,8), autopct='%1.0f%%', colors=colors, startangle=100)\n",
        "plt.ylabel('Sentiment');\n",
        "plt.title(\"Sentiment Distribution of Reply Only\");"
      ],
      "metadata": {
        "colab": {
          "base_uri": "https://localhost:8080/",
          "height": 483
        },
        "id": "69Yb2yFZfCVO",
        "outputId": "0853eb33-91bc-4e21-a11d-e0ca16386b89"
      },
      "execution_count": 197,
      "outputs": [
        {
          "output_type": "display_data",
          "data": {
            "text/plain": [
              "<Figure size 1152x576 with 1 Axes>"
            ],
            "image/png": "[encoded data removed]"
          },
          "metadata": {
            "image/png": {
              "width": 491,
              "height": 466
            }
          }
        }
      ]
    },
    {
      "cell_type": "code",
      "source": [],
      "metadata": {
        "id": "-nkYPA0Hh2kY"
      },
      "execution_count": null,
      "outputs": []
    }
  ]
}